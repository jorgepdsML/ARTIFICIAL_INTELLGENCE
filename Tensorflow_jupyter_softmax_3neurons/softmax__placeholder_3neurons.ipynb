{
 "cells": [
  {
   "cell_type": "code",
   "execution_count": 45,
   "metadata": {},
   "outputs": [
    {
     "data": {
      "text/html": [
       "<img src=\"braintels_TF.png\" , width=500,height=500>\n"
      ],
      "text/plain": [
       "<IPython.core.display.HTML object>"
      ]
     },
     "metadata": {},
     "output_type": "display_data"
    }
   ],
   "source": [
    "%%html\n",
    "<img src=\"braintels_TF.png\" , width=500,height=500>"
   ]
  },
  {
   "cell_type": "code",
   "execution_count": 35,
   "metadata": {},
   "outputs": [
    {
     "name": "stdout",
     "output_type": "stream",
     "text": [
      "2.0.0\n",
      "¿MODO EAGER ACTIVADO ? False\n"
     ]
    }
   ],
   "source": [
    "#importar herramientas necesarias\n",
    "import numpy as np\n",
    "import tensorflow as tf\n",
    "#mostrar version\n",
    "print(tf.__version__)\n",
    "#deshabilitar el modo eager\n",
    "tf.compat.v1.disable_eager_execution()\n",
    "#verificar que el modo eager esta deshabilitado\n",
    "print(\"¿MODO EAGER ACTIVADO ?\",tf.executing_eagerly())"
   ]
  },
  {
   "cell_type": "code",
   "execution_count": 36,
   "metadata": {},
   "outputs": [],
   "source": [
    "#input para el placeholder NxR (N => ejemplos ) (R => Entradas) 4 ejemplos y 2 entradas\n",
    "Input=np.array([[0,1],[0.2,1.2],[-1,0.8],[0.6,0.9]])\n",
    "#===========================Creación del grafo por defecto =============\n",
    "#placeholder para la entrada\n",
    "#========2x1===========\n",
    "x=tf.compat.v1.placeholder(dtype=tf.float32,shape=(2,1),name=\"X\")\n",
    "#pesos sinapticos , se utilizara por ejemplos practicos el tensor constante\n",
    "#===================3x2 ==================\n",
    "w=tf.constant(np.random.randn(3,2),dtype=tf.float32,name=\"w\")\n",
    "#realizar el producto matricial entre x y w\n",
    "#==============3x1===================\n",
    "v=tf.matmul(w,x,name=\"v\")\n",
    "#utilizar la función softmax\n",
    "#===============3x1==============0\n",
    "y=tf.nn.softmax(v,axis=0,name=\"y\")"
   ]
  },
  {
   "cell_type": "code",
   "execution_count": 44,
   "metadata": {},
   "outputs": [
    {
     "name": "stdout",
     "output_type": "stream",
     "text": [
      "==========================================================\n",
      "Vector de Entrada de la red neuronal es: \n",
      " [[0.]\n",
      " [1.]]\n",
      "Neuronas de salida en la iteración 0 : \n",
      "  [[0.2783766 ]\n",
      " [0.18800662]\n",
      " [0.5336168 ]]\n",
      "Suma de las respuesta de cada neurona de salida es: 1.0\n",
      "==========================================================\n",
      "==========================================================\n",
      "Vector de Entrada de la red neuronal es: \n",
      " [[0.2]\n",
      " [1.2]]\n",
      "Neuronas de salida en la iteración 1 : \n",
      "  [[0.22467089]\n",
      " [0.17329861]\n",
      " [0.6020305 ]]\n",
      "Suma de las respuesta de cada neurona de salida es: 1.0\n",
      "==========================================================\n",
      "==========================================================\n",
      "Vector de Entrada de la red neuronal es: \n",
      " [[-1. ]\n",
      " [ 0.8]]\n",
      "Neuronas de salida en la iteración 2 : \n",
      "  [[0.5381413 ]\n",
      " [0.13662486]\n",
      " [0.32523376]]\n",
      "Suma de las respuesta de cada neurona de salida es: 1.0\n",
      "==========================================================\n",
      "==========================================================\n",
      "Vector de Entrada de la red neuronal es: \n",
      " [[0.6]\n",
      " [0.9]]\n",
      "Neuronas de salida en la iteración 3 : \n",
      "  [[0.17715415]\n",
      " [0.23460492]\n",
      " [0.588241  ]]\n",
      "Suma de las respuesta de cada neurona de salida es: 1.0\n",
      "==========================================================\n"
     ]
    }
   ],
   "source": [
    "#=========================Creación de la sesión para ejecutar el grafo===========\n",
    "with tf.compat.v1.Session() as sesion:\n",
    "    #para cada ejemplo de la entrada Input\n",
    "    for i in range(4):\n",
    "        #ejecutar y utilizar el feed_dict para el placeholder\n",
    "        yval=sesion.run(y,feed_dict={x:Input[i,:].reshape(2,1)})\n",
    "        #sumar la respuesta de cada neurona\n",
    "        suma=np.sum(yval)\n",
    "        print(\"==========================================================\")\n",
    "        print(\"Vector de Entrada de la red neuronal es: \\n {}\".format(Input[i,:].reshape(2,1)))\n",
    "        print(\"Neuronas de salida en la iteración {} : \\n  {}\".format(i,yval))\n",
    "        print(\"Suma de las respuesta de cada neurona de salida es:\",np.round(suma))\n",
    "        print(\"==========================================================\")\n"
   ]
  }
 ],
 "metadata": {
  "kernelspec": {
   "display_name": "Python 3",
   "language": "python",
   "name": "python3"
  },
  "language_info": {
   "codemirror_mode": {
    "name": "ipython",
    "version": 3
   },
   "file_extension": ".py",
   "mimetype": "text/x-python",
   "name": "python",
   "nbconvert_exporter": "python",
   "pygments_lexer": "ipython3",
   "version": "3.7.2"
  }
 },
 "nbformat": 4,
 "nbformat_minor": 2
}
