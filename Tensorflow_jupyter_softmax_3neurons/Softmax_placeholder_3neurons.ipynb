{
 "cells": [
  {
   "cell_type": "code",
   "execution_count": 5,
   "metadata": {},
   "outputs": [
    {
     "name": "stdout",
     "output_type": "stream",
     "text": [
      "2.0.0\n",
      "MODO EAGER ACTIVADO ? False\n"
     ]
    }
   ],
   "source": [
    "#importar herramientas necesarias\n",
    "import numpy as np\n",
    "import tensorflow as tf\n",
    "#mostrar version\n",
    "print(tf.__version__)\n",
    "#deshabilitar el modo eager\n",
    "tf.compat.v1.disable_eager_execution()\n",
    "#verificar que el modo eager esta deshabilitado\n",
    "print(\"¿MODO EAGER ACTIVADO ?\",tf.executing_eagerly())"
   ]
  },
  {
   "cell_type": "code",
   "execution_count": null,
   "metadata": {},
   "outputs": [],
   "source": []
  }
 ],
 "metadata": {
  "kernelspec": {
   "display_name": "Python 3",
   "language": "python",
   "name": "python3"
  },
  "language_info": {
   "codemirror_mode": {
    "name": "ipython",
    "version": 3
   },
   "file_extension": ".py",
   "mimetype": "text/x-python",
   "name": "python",
   "nbconvert_exporter": "python",
   "pygments_lexer": "ipython3",
   "version": "3.7.2"
  }
 },
 "nbformat": 4,
 "nbformat_minor": 2
}
