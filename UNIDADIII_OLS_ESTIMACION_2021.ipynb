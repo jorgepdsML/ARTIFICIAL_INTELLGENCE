{
  "nbformat": 4,
  "nbformat_minor": 0,
  "metadata": {
    "kernelspec": {
      "display_name": "Python 3",
      "language": "python",
      "name": "python3"
    },
    "language_info": {
      "codemirror_mode": {
        "name": "ipython",
        "version": 3
      },
      "file_extension": ".py",
      "mimetype": "text/x-python",
      "name": "python",
      "nbconvert_exporter": "python",
      "pygments_lexer": "ipython3",
      "version": "3.7.8"
    },
    "colab": {
      "name": "UNIDADIII_OLS_ESTIMACION_2021.ipynb",
      "provenance": [],
      "collapsed_sections": [],
      "include_colab_link": true
    }
  },
  "cells": [
    {
      "cell_type": "markdown",
      "metadata": {
        "id": "view-in-github",
        "colab_type": "text"
      },
      "source": [
        "<a href=\"https://colab.research.google.com/github/jorgepdsML/ARTIFICIAL_INTELLIGENCE_TENSORFLOW/blob/master/UNIDADIII_OLS_ESTIMACION_2021.ipynb\" target=\"_parent\"><img src=\"https://colab.research.google.com/assets/colab-badge.svg\" alt=\"Open In Colab\"/></a>"
      ]
    },
    {
      "cell_type": "markdown",
      "metadata": {
        "id": "S1W4tl7CBaLN"
      },
      "source": [
        "### PREGUNTA N°2 DEL EXAMEN DE PROCESOS ESTOCASTICOS\n",
        "##### ALUMNO: Jorge Miranda"
      ]
    },
    {
      "cell_type": "code",
      "metadata": {
        "id": "jUTnA9rm_Isu"
      },
      "source": [
        "#Establecer el backend de matplotlib en el backend 'en línea' :\n",
        "%matplotlib inline \n"
      ],
      "execution_count": 1,
      "outputs": []
    },
    {
      "cell_type": "code",
      "metadata": {
        "colab": {
          "base_uri": "https://localhost:8080/",
          "height": 0
        },
        "id": "uNq3L9-K_Is1",
        "outputId": "ae41a5a0-c06f-433f-c4b8-371c4ed6e63c"
      },
      "source": [
        "\"\"\"\n",
        "--numpy: Biblioteca que da soporte a la creación y manipulación\n",
        "de matrices multidimensionales asi como funciones matematicas de alto nivel.\n",
        "--importar numpy como np\n",
        "\"\"\"\n",
        "import numpy as np\n",
        "#Apartir de aqui se usara np en lugar de numpy\n",
        "\"\"\"\n",
        "--pyplot permite realizar distintos estilos de ploteos \n",
        "con el fin de realizar un analisis grafico sobre los datos.\n",
        "--importar el modulo pyplot del paquete matplotlib como plt\n",
        "\"\"\"\n",
        "import matplotlib.pyplot as plt\n",
        "#Apartir de aqui se usara plt en lugar de pyplot \n",
        "\"\"\"\n",
        "--importar api del paquete statsmodels como sm\n",
        "--stastsmodels: Paquete de python , complemento de scipy, orientado\n",
        "a la estadistica.\n",
        "--api:modulo que brinda modelos y métodos estadisticos.\n",
        "\"\"\"\n",
        "import statsmodels.api as sm\n",
        "#A partir de aqui se usara sm en lugar de api \n",
        "from statsmodels.sandbox.regression.predstd import wls_prediction_std\n"
      ],
      "execution_count": 2,
      "outputs": [
        {
          "output_type": "stream",
          "name": "stderr",
          "text": [
            "/usr/local/lib/python3.7/dist-packages/statsmodels/tools/_testing.py:19: FutureWarning: pandas.util.testing is deprecated. Use the functions in the public API at pandas.testing instead.\n",
            "  import pandas.util.testing as tm\n"
          ]
        }
      ]
    },
    {
      "cell_type": "code",
      "metadata": {
        "id": "s8qlhIXo_Is4"
      },
      "source": [
        "#Establecer la semilla para el algoritmo generador de números pseudoaleatorios en PythonE\n",
        "np.random.seed(9876789)"
      ],
      "execution_count": 3,
      "outputs": []
    },
    {
      "cell_type": "markdown",
      "metadata": {
        "id": "TsMNjjZN_Is5"
      },
      "source": [
        "### Creación de datos artificiales\n",
        "Se considera el uso de la generación datos artificiales para validar el uso de la estimación OLS    \\\n",
        "Se considera en generar 100 datos de la variable de regresión $x(t)$ con el fin de explicar $y(t)$ empleando un modelo de regresión cuadratico \\\n",
        "$nsample=100$ \n",
        "\n",
        "| $x(t)$ | $y(t)$ |\n",
        "| :---: | :---:|\n",
        "| $x(0)$| $y(0)$|\n",
        "| $x(1)$| $y(2)$|\n",
        "| $x(2)$| $y(2)$|\n",
        "| $x(3)$| $y(3)$|\n",
        "| $.$| $.$|\n",
        "| $.$| $.$|\n",
        "| $.$| $.$|\n",
        "| $.$| $.$|\n",
        "| $x(nsample-1)$| $y(nsample-1)$|\n",
        "\n",
        "### Modelo de Regresión  \n",
        "El modelo de regresión viene definido por la siguiente ecuación    \\\n",
        "$ y(t)=\\beta_{0}+\\beta_{1}x(t) +\\beta_{2}x^{2}(t)+\\xi(t) $\n",
        "\n",
        "Donde los datos $x(t), x(t)^2$ son generados artificialmente\n",
        "\n",
        "El modelo de regresión ahora se define como:\n",
        "\n",
        "$ y(t)=\\beta_{0}+\\beta_{1}x_1(t) +\\beta_{2}x_2(t)+\\xi(t) $\n"
      ]
    },
    {
      "cell_type": "code",
      "metadata": {
        "colab": {
          "base_uri": "https://localhost:8080/",
          "height": 0
        },
        "id": "enbyiZUJ_Is7",
        "outputId": "b157f4ad-afea-4e7d-accf-648efdb6386a"
      },
      "source": [
        "#Definir la cantidad de muestras\n",
        "nsample = 100\n",
        "\"\"\"\n",
        "Definir un vector de 100 elementos \n",
        "con valores desde 0 hasta 10\n",
        "\"\"\"\n",
        "x = np.linspace(0, 10, 100)\n",
        "#Mostrar vectot creado\n",
        "print(\"---------------Vector x---------------- \\r\\n\",x)\n",
        "print(x)\n",
        "\"\"\"\n",
        "Realizar el apilamiento por columna al vector x con el \n",
        "vector x**2 en la cual se crea una matriz 2D y se asigna\n",
        "a X.\n",
        "\"\"\"\n",
        "X = np.column_stack((x, x**2))\n",
        "#Mostrar la matriz creada\n",
        "print(\"\\r\\n---------------Matriz X---------------- \\r\\n\",X)\n",
        "\"\"\"\n",
        "Definir un vector de 3 elementos\n",
        "que consisten en 1 , 0.1 y 10\n",
        "\"\"\"\n",
        "beta = np.array([1, 0.1, 10])\n",
        "#Mostrar el vector beta\n",
        "print(\"\\r\\n---------------Vector beta---------------- \\r\\n\",beta)\n",
        "\"\"\"\n",
        "Crear un vector aleatorio con distribución  \n",
        "normal con una cantidad de muestras igual a nsample\n",
        "\"\"\"\n",
        "e = np.random.normal(size=nsample)\n",
        "#Mostrar el vector de error\n",
        "print(\"\\r\\n---------------Vector de error---------------- \\r\\n\",e)\n"
      ],
      "execution_count": 4,
      "outputs": [
        {
          "output_type": "stream",
          "name": "stdout",
          "text": [
            "---------------Vector x---------------- \r\n",
            " [ 0.          0.1010101   0.2020202   0.3030303   0.4040404   0.50505051\n",
            "  0.60606061  0.70707071  0.80808081  0.90909091  1.01010101  1.11111111\n",
            "  1.21212121  1.31313131  1.41414141  1.51515152  1.61616162  1.71717172\n",
            "  1.81818182  1.91919192  2.02020202  2.12121212  2.22222222  2.32323232\n",
            "  2.42424242  2.52525253  2.62626263  2.72727273  2.82828283  2.92929293\n",
            "  3.03030303  3.13131313  3.23232323  3.33333333  3.43434343  3.53535354\n",
            "  3.63636364  3.73737374  3.83838384  3.93939394  4.04040404  4.14141414\n",
            "  4.24242424  4.34343434  4.44444444  4.54545455  4.64646465  4.74747475\n",
            "  4.84848485  4.94949495  5.05050505  5.15151515  5.25252525  5.35353535\n",
            "  5.45454545  5.55555556  5.65656566  5.75757576  5.85858586  5.95959596\n",
            "  6.06060606  6.16161616  6.26262626  6.36363636  6.46464646  6.56565657\n",
            "  6.66666667  6.76767677  6.86868687  6.96969697  7.07070707  7.17171717\n",
            "  7.27272727  7.37373737  7.47474747  7.57575758  7.67676768  7.77777778\n",
            "  7.87878788  7.97979798  8.08080808  8.18181818  8.28282828  8.38383838\n",
            "  8.48484848  8.58585859  8.68686869  8.78787879  8.88888889  8.98989899\n",
            "  9.09090909  9.19191919  9.29292929  9.39393939  9.49494949  9.5959596\n",
            "  9.6969697   9.7979798   9.8989899  10.        ]\n",
            "[ 0.          0.1010101   0.2020202   0.3030303   0.4040404   0.50505051\n",
            "  0.60606061  0.70707071  0.80808081  0.90909091  1.01010101  1.11111111\n",
            "  1.21212121  1.31313131  1.41414141  1.51515152  1.61616162  1.71717172\n",
            "  1.81818182  1.91919192  2.02020202  2.12121212  2.22222222  2.32323232\n",
            "  2.42424242  2.52525253  2.62626263  2.72727273  2.82828283  2.92929293\n",
            "  3.03030303  3.13131313  3.23232323  3.33333333  3.43434343  3.53535354\n",
            "  3.63636364  3.73737374  3.83838384  3.93939394  4.04040404  4.14141414\n",
            "  4.24242424  4.34343434  4.44444444  4.54545455  4.64646465  4.74747475\n",
            "  4.84848485  4.94949495  5.05050505  5.15151515  5.25252525  5.35353535\n",
            "  5.45454545  5.55555556  5.65656566  5.75757576  5.85858586  5.95959596\n",
            "  6.06060606  6.16161616  6.26262626  6.36363636  6.46464646  6.56565657\n",
            "  6.66666667  6.76767677  6.86868687  6.96969697  7.07070707  7.17171717\n",
            "  7.27272727  7.37373737  7.47474747  7.57575758  7.67676768  7.77777778\n",
            "  7.87878788  7.97979798  8.08080808  8.18181818  8.28282828  8.38383838\n",
            "  8.48484848  8.58585859  8.68686869  8.78787879  8.88888889  8.98989899\n",
            "  9.09090909  9.19191919  9.29292929  9.39393939  9.49494949  9.5959596\n",
            "  9.6969697   9.7979798   9.8989899  10.        ]\n",
            "\r\n",
            "---------------Matriz X---------------- \r\n",
            " [[0.00000000e+00 0.00000000e+00]\n",
            " [1.01010101e-01 1.02030405e-02]\n",
            " [2.02020202e-01 4.08121620e-02]\n",
            " [3.03030303e-01 9.18273646e-02]\n",
            " [4.04040404e-01 1.63248648e-01]\n",
            " [5.05050505e-01 2.55076013e-01]\n",
            " [6.06060606e-01 3.67309458e-01]\n",
            " [7.07070707e-01 4.99948985e-01]\n",
            " [8.08080808e-01 6.52994592e-01]\n",
            " [9.09090909e-01 8.26446281e-01]\n",
            " [1.01010101e+00 1.02030405e+00]\n",
            " [1.11111111e+00 1.23456790e+00]\n",
            " [1.21212121e+00 1.46923783e+00]\n",
            " [1.31313131e+00 1.72431385e+00]\n",
            " [1.41414141e+00 1.99979594e+00]\n",
            " [1.51515152e+00 2.29568411e+00]\n",
            " [1.61616162e+00 2.61197837e+00]\n",
            " [1.71717172e+00 2.94867871e+00]\n",
            " [1.81818182e+00 3.30578512e+00]\n",
            " [1.91919192e+00 3.68329762e+00]\n",
            " [2.02020202e+00 4.08121620e+00]\n",
            " [2.12121212e+00 4.49954086e+00]\n",
            " [2.22222222e+00 4.93827160e+00]\n",
            " [2.32323232e+00 5.39740843e+00]\n",
            " [2.42424242e+00 5.87695133e+00]\n",
            " [2.52525253e+00 6.37690032e+00]\n",
            " [2.62626263e+00 6.89725538e+00]\n",
            " [2.72727273e+00 7.43801653e+00]\n",
            " [2.82828283e+00 7.99918376e+00]\n",
            " [2.92929293e+00 8.58075707e+00]\n",
            " [3.03030303e+00 9.18273646e+00]\n",
            " [3.13131313e+00 9.80512193e+00]\n",
            " [3.23232323e+00 1.04479135e+01]\n",
            " [3.33333333e+00 1.11111111e+01]\n",
            " [3.43434343e+00 1.17947148e+01]\n",
            " [3.53535354e+00 1.24987246e+01]\n",
            " [3.63636364e+00 1.32231405e+01]\n",
            " [3.73737374e+00 1.39679625e+01]\n",
            " [3.83838384e+00 1.47331905e+01]\n",
            " [3.93939394e+00 1.55188246e+01]\n",
            " [4.04040404e+00 1.63248648e+01]\n",
            " [4.14141414e+00 1.71513111e+01]\n",
            " [4.24242424e+00 1.79981635e+01]\n",
            " [4.34343434e+00 1.88654219e+01]\n",
            " [4.44444444e+00 1.97530864e+01]\n",
            " [4.54545455e+00 2.06611570e+01]\n",
            " [4.64646465e+00 2.15896337e+01]\n",
            " [4.74747475e+00 2.25385165e+01]\n",
            " [4.84848485e+00 2.35078053e+01]\n",
            " [4.94949495e+00 2.44975003e+01]\n",
            " [5.05050505e+00 2.55076013e+01]\n",
            " [5.15151515e+00 2.65381084e+01]\n",
            " [5.25252525e+00 2.75890215e+01]\n",
            " [5.35353535e+00 2.86603408e+01]\n",
            " [5.45454545e+00 2.97520661e+01]\n",
            " [5.55555556e+00 3.08641975e+01]\n",
            " [5.65656566e+00 3.19967350e+01]\n",
            " [5.75757576e+00 3.31496786e+01]\n",
            " [5.85858586e+00 3.43230283e+01]\n",
            " [5.95959596e+00 3.55167840e+01]\n",
            " [6.06060606e+00 3.67309458e+01]\n",
            " [6.16161616e+00 3.79655137e+01]\n",
            " [6.26262626e+00 3.92204877e+01]\n",
            " [6.36363636e+00 4.04958678e+01]\n",
            " [6.46464646e+00 4.17916539e+01]\n",
            " [6.56565657e+00 4.31078461e+01]\n",
            " [6.66666667e+00 4.44444444e+01]\n",
            " [6.76767677e+00 4.58014488e+01]\n",
            " [6.86868687e+00 4.71788593e+01]\n",
            " [6.96969697e+00 4.85766758e+01]\n",
            " [7.07070707e+00 4.99948985e+01]\n",
            " [7.17171717e+00 5.14335272e+01]\n",
            " [7.27272727e+00 5.28925620e+01]\n",
            " [7.37373737e+00 5.43720029e+01]\n",
            " [7.47474747e+00 5.58718498e+01]\n",
            " [7.57575758e+00 5.73921028e+01]\n",
            " [7.67676768e+00 5.89327620e+01]\n",
            " [7.77777778e+00 6.04938272e+01]\n",
            " [7.87878788e+00 6.20752984e+01]\n",
            " [7.97979798e+00 6.36771758e+01]\n",
            " [8.08080808e+00 6.52994592e+01]\n",
            " [8.18181818e+00 6.69421488e+01]\n",
            " [8.28282828e+00 6.86052444e+01]\n",
            " [8.38383838e+00 7.02887460e+01]\n",
            " [8.48484848e+00 7.19926538e+01]\n",
            " [8.58585859e+00 7.37169677e+01]\n",
            " [8.68686869e+00 7.54616876e+01]\n",
            " [8.78787879e+00 7.72268136e+01]\n",
            " [8.88888889e+00 7.90123457e+01]\n",
            " [8.98989899e+00 8.08182838e+01]\n",
            " [9.09090909e+00 8.26446281e+01]\n",
            " [9.19191919e+00 8.44913784e+01]\n",
            " [9.29292929e+00 8.63585348e+01]\n",
            " [9.39393939e+00 8.82460973e+01]\n",
            " [9.49494949e+00 9.01540659e+01]\n",
            " [9.59595960e+00 9.20824406e+01]\n",
            " [9.69696970e+00 9.40312213e+01]\n",
            " [9.79797980e+00 9.60004081e+01]\n",
            " [9.89898990e+00 9.79900010e+01]\n",
            " [1.00000000e+01 1.00000000e+02]]\n",
            "\r\n",
            "---------------Vector beta---------------- \r\n",
            " [ 1.   0.1 10. ]\n",
            "\r\n",
            "---------------Vector de error---------------- \r\n",
            " [-0.84051589  1.59749526  0.46554204 -0.50815894  2.9343057   0.41289442\n",
            " -0.94327249 -0.57123425  0.32858663 -0.0366525   0.31112907 -0.37669932\n",
            "  0.77808263  0.68679035  1.13861032 -1.81097906  1.79143041 -1.14101066\n",
            "  0.1509316  -1.12517637 -0.48275237  0.30494993 -1.84273534  0.25853029\n",
            "  0.38763454  1.86902659  0.79214331  0.13115781  1.95611929  0.90628723\n",
            " -0.66993563  1.50468525 -0.80159745  0.63443322 -0.63948555  0.01666895\n",
            " -0.91296139 -1.92184982 -1.27844098 -0.47279903 -0.55563717  0.76092128\n",
            "  0.4153819  -1.19774989  0.37679027  2.16159889 -0.71984746  1.21728985\n",
            "  0.52372572 -1.03490772 -0.32784716 -0.62777984 -0.02704057  0.69709085\n",
            " -1.07004579  1.02823293 -1.31037458  1.42819204 -0.31421789 -1.85161717\n",
            "  0.69924406 -1.65204921 -2.22070116  1.11719669 -0.09771428 -0.20044925\n",
            "  0.86762984 -0.32157153 -0.87503573 -0.52703233 -0.45011847  0.19653079\n",
            " -0.27747697  0.62706982  1.64574471  0.13979704 -1.20527944 -1.05775982\n",
            " -0.60213972 -0.08799062 -0.25490858  1.37939434  0.56454321  0.15463609\n",
            " -1.01332232  0.99502804 -0.36259333  1.60857284 -1.14339419  0.04236761\n",
            " -0.6846056  -0.68701473  1.67505239 -0.13081637 -1.2994341   0.42175578\n",
            "  2.07559894 -1.4370644   0.14809253 -1.86314651]\n"
          ]
        }
      ]
    },
    {
      "cell_type": "markdown",
      "metadata": {
        "id": "yvg1X0J5_Is-"
      },
      "source": [
        "### Notación matricial\n",
        "El modelo de regresión es descrito matricialmente como   \\\n",
        "$ Y=XB+E $  \n",
        "\n",
        "$Y=[y(0),y(1),..... y(99)]^T$  \n",
        "\n",
        "$B=[1,0.1,10]^T$  \n",
        "\n",
        "\n",
        "$X=\n",
        " \\begin{bmatrix}\n",
        "1 & x_1(0) & x_2(0)\\\\\n",
        "1 & x_1(1) & x_2(1)\\\\\n",
        "1 & x_1(2) & x_2(2)\\\\\n",
        ". & . &-\\\\\n",
        ". & . & \\\\\n",
        "1 & x_1(99) & x_2(99)\\\\\n",
        "\\end{bmatrix}_{100x3}$  \n",
        " \n",
        "$E=[\\xi(0),\\xi(1),.....\\xi(99)]^T$\n",
        " "
      ]
    },
    {
      "cell_type": "code",
      "metadata": {
        "id": "fn5_JV_X_Is_",
        "outputId": "52300897-54fd-4be9-eb05-2ae77243264d"
      },
      "source": [
        "\"\"\"\n",
        "Emplear la función add_constant para\n",
        "agregar una columna de unos a la matriz X.\n",
        "\"\"\"\n",
        "X = sm.add_constant(X)\n",
        "\"\"\"\n",
        "Realizar el producto entre X y el vector beta y sumarle\n",
        "el vector residuo de predicción\n",
        "\"\"\"\n",
        "y = np.dot(X, beta) + e\n",
        "print(\"---------------Vector y---------------- \\r\\n\",y)\n"
      ],
      "execution_count": null,
      "outputs": [
        {
          "name": "stdout",
          "output_type": "stream",
          "text": [
            "---------------Vector y---------------- \r\n",
            " [1.59484106e-01 2.70962667e+00 1.89386568e+00 1.44041774e+00\n",
            " 5.60719622e+00 4.01415960e+00 3.79042816e+00 5.49896267e+00\n",
            " 7.93934063e+00 9.31871940e+00 1.16151797e+01 1.30800908e+01\n",
            " 1.65916731e+01 1.90612419e+01 2.22779839e+01 2.22973772e+01\n",
            " 2.90728303e+01 2.95174936e+01 3.43906010e+01 3.68997190e+01\n",
            " 4.15314299e+01 4.65124798e+01 4.87622029e+01 5.54649378e+01\n",
            " 6.03995721e+01 6.68905550e+01 7.10273234e+01 7.57840504e+01\n",
            " 8.32307851e+01 8.80067872e+01 9.24604592e+01 1.00869036e+02\n",
            " 1.05000770e+02 1.13078878e+02 1.18651097e+02 1.26357451e+02\n",
            " 1.32682080e+02 1.39131512e+02 1.47437302e+02 1.56109386e+02\n",
            " 1.64097051e+02 1.73688174e+02 1.81821259e+02 1.88890813e+02\n",
            " 1.99352099e+02 2.10227715e+02 2.16641136e+02 2.28077202e+02\n",
            " 2.37086627e+02 2.45435044e+02 2.56253216e+02 2.66268455e+02\n",
            " 2.77388427e+02 2.88835852e+02 2.97996070e+02 3.11225764e+02\n",
            " 3.20222632e+02 3.34500736e+02 3.44501923e+02 3.54912182e+02\n",
            " 3.69614763e+02 3.79619250e+02 3.91610439e+02 4.07712238e+02\n",
            " 4.19465289e+02 4.32534578e+02 4.46978741e+02 4.59369684e+02\n",
            " 4.72600426e+02 4.86936696e+02 5.01205937e+02 5.16248974e+02\n",
            " 5.30375416e+02 5.46084472e+02 5.62111718e+02 5.75818401e+02\n",
            " 5.89890017e+02 6.05658290e+02 6.21938723e+02 6.38481747e+02\n",
            " 6.54547765e+02 6.72619064e+02 6.88445270e+02 7.04880480e+02\n",
            " 7.20761701e+02 7.40023290e+02 7.56122969e+02 7.75755497e+02\n",
            " 7.90868951e+02 8.10124196e+02 8.27670766e+02 8.46145961e+02\n",
            " 8.67189694e+02 8.84269551e+02 9.02190720e+02 9.23205757e+02\n",
            " 9.44357509e+02 9.60546815e+02 9.82038002e+02 1.00013685e+03]\n"
          ]
        }
      ]
    },
    {
      "cell_type": "markdown",
      "metadata": {
        "id": "pp9urSML_ItB"
      },
      "source": [
        "### Estimación por Minimos Cuadrados Ordinarios\n",
        "\n",
        "Dado las observaciones $y(t)$ y la matriz $X$ se debe de estimar los valores $\\beta_{0}$, $\\beta_{1}$ y  $\\beta_{2}$ tal que se minimice la suma de errores cuadraticos.  "
      ]
    },
    {
      "cell_type": "code",
      "metadata": {
        "id": "lfjufVm1_ItC",
        "outputId": "60b7d508-d983-4a3c-ed88-059fad118620"
      },
      "source": [
        "\"\"\"\n",
        "Crear un modelo de regresión tomandos los datos de \n",
        "la matriz X y del vector y\"\"\"\n",
        "model = sm.OLS(y, X)\n",
        "\"\"\"\n",
        "Emplear el método fit() para realizar el ajuste del modelo\n",
        "con los datos reales.Aqui se estima los parametros beta\n",
        " \"\"\"\n",
        "results = model.fit()\n",
        "\"\"\"\n",
        "Mostrar un resumen de los resultados obtenidos.\n",
        "Con este resumen se puede analizar la importancia estadistica \n",
        "de las variables que fueron utilizados para explicar y(t).\n",
        "\"\"\"\n",
        "print(results.summary())"
      ],
      "execution_count": null,
      "outputs": [
        {
          "name": "stdout",
          "output_type": "stream",
          "text": [
            "                            OLS Regression Results                            \n",
            "==============================================================================\n",
            "Dep. Variable:                      y   R-squared:                       1.000\n",
            "Model:                            OLS   Adj. R-squared:                  1.000\n",
            "Method:                 Least Squares   F-statistic:                 4.020e+06\n",
            "Date:                Tue, 17 Aug 2021   Prob (F-statistic):          2.83e-239\n",
            "Time:                        18:21:31   Log-Likelihood:                -146.51\n",
            "No. Observations:                 100   AIC:                             299.0\n",
            "Df Residuals:                      97   BIC:                             306.8\n",
            "Df Model:                           2                                         \n",
            "Covariance Type:            nonrobust                                         \n",
            "==============================================================================\n",
            "                 coef    std err          t      P>|t|      [0.025      0.975]\n",
            "------------------------------------------------------------------------------\n",
            "const          1.3423      0.313      4.292      0.000       0.722       1.963\n",
            "x1            -0.0402      0.145     -0.278      0.781      -0.327       0.247\n",
            "x2            10.0103      0.014    715.745      0.000       9.982      10.038\n",
            "==============================================================================\n",
            "Omnibus:                        2.042   Durbin-Watson:                   2.274\n",
            "Prob(Omnibus):                  0.360   Jarque-Bera (JB):                1.875\n",
            "Skew:                           0.234   Prob(JB):                        0.392\n",
            "Kurtosis:                       2.519   Cond. No.                         144.\n",
            "==============================================================================\n",
            "\n",
            "Notes:\n",
            "[1] Standard Errors assume that the covariance matrix of the errors is correctly specified.\n"
          ]
        }
      ]
    },
    {
      "cell_type": "code",
      "metadata": {
        "id": "GAtAmX7R_ItE",
        "outputId": "2ebe1623-210c-4645-be28-9b6500a5ebdd"
      },
      "source": [
        "\"\"\" Mostrar los parametros estimados\"\"\"\n",
        "print(\"-------------Parametros estimados -----------\\r\\n\",results.params)\n"
      ],
      "execution_count": null,
      "outputs": [
        {
          "name": "stdout",
          "output_type": "stream",
          "text": [
            "-------------Parametros estimados -----------\r\n",
            " [ 1.34233516 -0.04024948 10.01025357]\n"
          ]
        }
      ]
    },
    {
      "cell_type": "markdown",
      "metadata": {
        "id": "0QDeU_yF_ItF"
      },
      "source": [
        " ### Analisis\n",
        " Los parametros estimados mediante el método OLS son:\n",
        " \n",
        " \n",
        " $\\beta_{0}=1.34233516$\n",
        " \n",
        " $\\beta_{1}=-0.04024948$\n",
        " \n",
        " $\\beta_{1}=10.01025357$ \n",
        " \n",
        "$ y(t)=\\beta_{0}+\\beta_{1}x_1(t) +\\beta_{2}x_2(t)+\\xi(t) $\n",
        "####  VARIABLE ESTADISTICAMENTE NO SIGNIFICATIVA\n",
        "El coeficiente  $\\beta_{1}=-0.04024948 $ implica que la variable $x(t)$\n",
        "afecta de manera negativa a la variable $y(t)$ pero que se puede\n",
        "considerar a x(t) como una variable   ESTADISTICAMENTE NO SIGNIFICATIVA, debido a que  \n",
        " \n",
        "$ P(P>|t|) > 5\\% $\n",
        "  \n",
        "\n",
        "####  VARIABLES ESTADISTICAMENTE  SIGNIFICATIVAS\n",
        " \n",
        "Por otro lado , la variable $x_2(t)$  afecta de manera positiva a la variable $y(t)$ y representa una variable ESTADISTICAMENTE SIGNIFICATIVA asi como el termino constante $\\beta_{0}$, debido a que\n",
        "\n",
        "$ P(P>|t|) < 5\\% $"
      ]
    },
    {
      "cell_type": "code",
      "metadata": {
        "id": "izDRK31E_ItG"
      },
      "source": [
        ""
      ],
      "execution_count": null,
      "outputs": []
    }
  ]
}