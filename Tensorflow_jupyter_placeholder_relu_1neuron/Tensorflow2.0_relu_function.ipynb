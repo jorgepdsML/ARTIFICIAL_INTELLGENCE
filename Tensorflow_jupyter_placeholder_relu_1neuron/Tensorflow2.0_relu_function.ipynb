{
 "cells": [
  {
   "cell_type": "code",
   "execution_count": 15,
   "metadata": {},
   "outputs": [
    {
     "data": {
      "text/html": [
       "<img src=\"imagen1.png\" , width=500,height=500>\n"
      ],
      "text/plain": [
       "<IPython.core.display.HTML object>"
      ]
     },
     "metadata": {},
     "output_type": "display_data"
    }
   ],
   "source": [
    "%%html\n",
    "<img src=\"imagen1.png\" , width=500,height=500>"
   ]
  },
  {
   "cell_type": "code",
   "execution_count": 24,
   "metadata": {},
   "outputs": [
    {
     "name": "stdout",
     "output_type": "stream",
     "text": [
      "2.0.0\n"
     ]
    }
   ],
   "source": [
    "import numpy as np\n",
    "from matplotlib import pyplot as plt\n",
    "import tensorflow as tf\n",
    "print(tf.__version__)\n",
    "#deshabilitar modo eager para utilizar grafos y sesiones\n",
    "tf.compat.v1.disable_eager_execution()\n"
   ]
  },
  {
   "cell_type": "code",
   "execution_count": 26,
   "metadata": {},
   "outputs": [],
   "source": [
    "#========================Input que se agregara despues al placeholder medinate el feed_dict\n",
    "Input=np.array([[0,1],\n",
    "                [0.2,1.2],\n",
    "                [1,0.8],\n",
    "                [0.6,0.9]])\n",
    "#========================Creación de nuestro grafo por default=====================================\n",
    "#crear tensor de entrada de dimensiones 2x1 \n",
    "x=tf.compat.v1.placeholder(dtype=tf.float32,shape=(2,1),name=\"x\")\n",
    "#crear los valores de 1  y -1 en un vector de 1x2\n",
    "w=tf.constant(np.array([[1,-1]]),dtype=tf.float32,name=\"w\")"
   ]
  },
  {
   "cell_type": "code",
   "execution_count": 27,
   "metadata": {},
   "outputs": [],
   "source": [
    "#realizar la operación del producto punto para obtener v \n",
    "v=tf.matmul(w,x,name=\"v\")\n",
    "#realizar la operación de la función de activación relu para obtener y\n",
    "y=tf.nn.relu(v,name=\"y\")\n",
    "#========================Fin del grafo computacional========================================"
   ]
  },
  {
   "cell_type": "code",
   "execution_count": 35,
   "metadata": {},
   "outputs": [
    {
     "name": "stdout",
     "output_type": "stream",
     "text": [
      "==== Valor de X[0] es: [0. 1.] ===== Valor de Y[0] es [[0.]] \n",
      "==== Valor de X[1] es: [0.2 1.2] ===== Valor de Y[1] es [[0.]] \n",
      "==== Valor de X[2] es: [1.  0.8] ===== Valor de Y[2] es [[0.19999999]] \n",
      "==== Valor de X[3] es: [0.6 0.9] ===== Valor de Y[3] es [[0.]] \n"
     ]
    }
   ],
   "source": [
    "#=========================Creación de una sesión para ejecutar el grafo creado=============0\n",
    "#Placeholder requiere el uso del argumento feed_dict para que pueda ser evaluado s\n",
    "with tf.compat.v1.Session() as sesion:\n",
    "    #ejecutar mediante el método run () y el argumento feed_dict para el placeholder\n",
    "    for i in range(4):\n",
    "        yval=sesion.run(y,feed_dict={x:Input[i,:].reshape(2,1)})\n",
    "        print(\"==== Valor de X[{}] es: {} ===== Valor de Y[{}] es {} \".format(i,Input[i,:],i,yval))\n"
   ]
  }
 ],
 "metadata": {
  "kernelspec": {
   "display_name": "Python 3",
   "language": "python",
   "name": "python3"
  },
  "language_info": {
   "codemirror_mode": {
    "name": "ipython",
    "version": 3
   },
   "file_extension": ".py",
   "mimetype": "text/x-python",
   "name": "python",
   "nbconvert_exporter": "python",
   "pygments_lexer": "ipython3",
   "version": "3.7.2"
  }
 },
 "nbformat": 4,
 "nbformat_minor": 2
}
