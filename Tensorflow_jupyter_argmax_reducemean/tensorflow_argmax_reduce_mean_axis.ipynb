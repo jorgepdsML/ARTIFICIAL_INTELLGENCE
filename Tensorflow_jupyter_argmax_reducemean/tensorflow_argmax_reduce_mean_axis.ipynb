{
 "cells": [
  {
   "cell_type": "code",
   "execution_count": 9,
   "metadata": {},
   "outputs": [
    {
     "name": "stdout",
     "output_type": "stream",
     "text": [
      "EAGER DESACTIVADO\n"
     ]
    }
   ],
   "source": [
    "#importar herramientas necesarias\n",
    "#written by jorge orlando miranda ñahui\n",
    "#uso de la función argmax para obtener los indices donde se presenta el mayor valor de un tensor\n",
    "#uso de la operación tf.reduce_mean() para obtener la media aritmetica de un tensor\n",
    "import numpy as np\n",
    "import tensorflow as tf\n",
    "import sys\n",
    "#deshabilitar modo eager\n",
    "tf.compat.v1.disable_eager_execution()\n",
    "estate=tf.executing_eagerly()\n",
    "if estate==False:\n",
    "    print(\"EAGER DESACTIVADO\")\n",
    "else:\n",
    "    print(\"EAGER ACTIVO , NO USAR SESIONES\")\n"
   ]
  },
  {
   "cell_type": "code",
   "execution_count": 19,
   "metadata": {},
   "outputs": [
    {
     "name": "stdout",
     "output_type": "stream",
     "text": [
      "============tENSOR DE ENTRADA ======\n",
      "[[10. 10. 10.]\n",
      " [ 3. 20. 15.]]\n",
      "======== RESULTADO ARGMAX axis= 0 =============\n",
      "[0 1 1]\n",
      "======== RESULTADO ARGMAX axis= 1 =============\n",
      "[0 1]\n",
      "======== RESULTADO ARGMAX axis= None =============\n",
      "[0 1 1]\n",
      "======== RESULTADO ARGMAX axis= -1 =============\n",
      "[0 1]\n",
      "Media aritmetica :  11.333333\n"
     ]
    }
   ],
   "source": [
    "#Usar el grafo por defecto y agregar operaciones\n",
    "grafo=tf.compat.v1.get_default_graph()\n",
    "with grafo.as_default() :\n",
    "    #crar un tensor constante \n",
    "    c1=tf.constant(np.array([[10,10,10],\n",
    "                             [3,20,15]]),dtype=tf.float32,name=\"c1\")\n",
    "    #uso de la función argmax, axis=0 , eje y <=> axis=0\n",
    "    a0=tf.argmax(c1,axis=0) \n",
    "    #uso de la función argmax, axis=1 , eje x <=> axis=1\n",
    "    a1=tf.argmax(c1,axis=1)\n",
    "    #uso de la función argmax , axis=None\n",
    "    aN=tf.argmax(c1)\n",
    "    #uso de la función argmax , axis=-1 , ultimo eje, en este caso eje x <=> axis=1\n",
    "    am1=tf.argmax(c1,axis=-1)\n",
    "    #uso de la operación reduce_mean()\n",
    "    media=tf.reduce_mean(c1,axis=None) # calcula la media de todos los elementos del tensor\n",
    "    #crear lista de tensores\n",
    "    l=[a0,a1,aN,am1]\n",
    "    ls=[0,1,\"None\",-1]\n",
    "with tf.compat.v1.Session() as sesion:\n",
    "    #mostrar tensor de entrada\n",
    "    print(\"============tENSOR DE ENTRADA ======\")\n",
    "    print(sesion.run(c1))\n",
    "    #mostrar el resultado\n",
    "    for a,b in zip(l,ls):\n",
    "        print(\"======== RESULTADO ARGMAX axis= {} =============\".format(b))\n",
    "        print(sesion.run(a))\n",
    "    #mostrar la media aritmetica del tensor\n",
    "    print(\"Media aritmetica : \",sesion.run(media))\n",
    "\n",
    "    "
   ]
  },
  {
   "cell_type": "code",
   "execution_count": null,
   "metadata": {},
   "outputs": [],
   "source": []
  }
 ],
 "metadata": {
  "kernelspec": {
   "display_name": "Python 3",
   "language": "python",
   "name": "python3"
  },
  "language_info": {
   "codemirror_mode": {
    "name": "ipython",
    "version": 3
   },
   "file_extension": ".py",
   "mimetype": "text/x-python",
   "name": "python",
   "nbconvert_exporter": "python",
   "pygments_lexer": "ipython3",
   "version": "3.7.2"
  }
 },
 "nbformat": 4,
 "nbformat_minor": 2
}
