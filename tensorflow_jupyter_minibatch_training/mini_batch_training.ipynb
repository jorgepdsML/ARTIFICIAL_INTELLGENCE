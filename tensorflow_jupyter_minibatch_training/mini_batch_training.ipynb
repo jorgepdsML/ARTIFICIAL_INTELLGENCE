{
 "cells": [
  {
   "cell_type": "code",
   "execution_count": 20,
   "metadata": {
    "scrolled": true
   },
   "outputs": [
    {
     "name": "stdout",
     "output_type": "stream",
     "text": [
      "EAGER MODO DESHABILITADO\n"
     ]
    }
   ],
   "source": [
    "#=============================Braintels Labs================================\n",
    "#======================written by jorge orlando miranda ñahui\n",
    "#========================jorge miranda redes neuronales====================================\n",
    "#======================clasificación no lineal xor ==================================\n",
    "#importar las herramientas necesarias\n",
    "from matplotlib import pyplot as plt\n",
    "import numpy as np\n",
    "import tensorflow as tf\n",
    "tf.compat.v1.disable_eager_execution()\n",
    "print(\"EAGER MODO DESHABILITADO\")\n"
   ]
  },
  {
   "cell_type": "code",
   "execution_count": 22,
   "metadata": {},
   "outputs": [
    {
     "data": {
      "image/png": "[encoded data removed]",
      "text/plain": [
       "<Figure size 432x288 with 1 Axes>"
      ]
     },
     "metadata": {
      "needs_background": "light"
     },
     "output_type": "display_data"
    },
    {
     "name": "stdout",
     "output_type": "stream",
     "text": [
      "==================SECCIÓN GRAFO COMPUTACIONAL==============\n"
     ]
    }
   ],
   "source": [
    "#==================crear los datos de entrenamiento del problema del xor ===========\n",
    "Input=np.array([[-1,-1],\n",
    "                [-1,1],\n",
    "                [1,-1],\n",
    "                [1,1]])\n",
    "Target=np.array([ [1,0,0,1], # neurona 1 salida deseada\n",
    "                 [0,1,1,0]]) #neurona 2  salida deseada\n",
    "colores=['r','b','b','r']\n",
    "for a in range(4):\n",
    "    plt.scatter(Input[a,0],Input[a,1],c=colores[a])\n",
    "plt.show()\n",
    "#definir parametros\n",
    "R=2 # ESTE PARAMETRO INDICA LA CANTIDAD DE ENTRADAS , 2 ENTRADAS\n",
    "B=2 # ESTE PARAMETRO INDICA EL TAMAÑO DEL MINI BATCH , 2 EJEMPLOS POR ACTUALIZACIÓN\n",
    "So=2 # Número de neuronas de salida\n",
    "epocas=90 # NÚMERO DE EPOCAS\n",
    "lr=0.1\n",
    "lossf=[]\n",
    "print(\"==================SECCIÓN GRAFO COMPUTACIONAL==============\")\n"
   ]
  },
  {
   "cell_type": "code",
   "execution_count": 23,
   "metadata": {},
   "outputs": [
    {
     "name": "stdout",
     "output_type": "stream",
     "text": [
      "============SECCIÓN SESIÓN PARA EJECUCIÓN DE GRAFO COMPUTACIONAL ================================\n"
     ]
    }
   ],
   "source": [
    "()#==============================crear grafo ===============================\n",
    "grafo=tf.Graph()\n",
    "#========================agregar operaciones al grafo ==========================\n",
    "with grafo.as_default():\n",
    "    #==============CREAR PLACEHOLDER RxB (R =>2 entradas) , (B => Batch 2 ejemplos)\n",
    "    x=tf.compat.v1.placeholder(shape=(R,None),dtype=tf.float32,name=\"X\")\n",
    "    #===============CREAR PLACEHOLDER Target SoxB\n",
    "    T=tf.compat.v1.placeholder(shape=(So,None),dtype=tf.float32,name=\"T\")\n",
    "    #===============Crear Matriz de pesos sinapticos de capa oculta ShxR\n",
    "    #Sh=> 2 neuronas ocultas , R entradas =>2\n",
    "    Wh=tf.Variable(np.random.randn(3,2),dtype=tf.float32,name=\"Wh\")\n",
    "    #===============Crear Matriz de pesos sinapticos de capa de salida SoxSh\n",
    "    Wo=tf.Variable(np.random.randn(2,3),dtype=tf.float32,name=\"Wo\")\n",
    "    #ENTRADA NETA v2 ShxB CAPA OCULTA\n",
    "    V1=tf.matmul(Wh,x,name=\"v1\")\n",
    "    #SALIDA DE LA CAPA OCULTA RELU ShxB\n",
    "    Y1=tf.nn.relu(V1,name=\"Y1\")\n",
    "    \n",
    "    #=====================CAPA DE SALIDA===========================\n",
    "    #ENTRADA NETA v2 SxB\n",
    "    V2=tf.matmul(Wo,Y1,name=\"v2\")\n",
    "    #SALIDA FUNCIÓN DE ACTIVACIÓN SIGMOIDE SxB\n",
    "    Y2=tf.nn.sigmoid(V2,name=\"y2\")\n",
    "    #===================Crear Función De Costo\n",
    "    loss=tf.reduce_mean(tf.square(T-Y2))\n",
    "    #===================back propagation ==============\n",
    "    opt=tf.compat.v1.train.GradientDescentOptimizer(learning_rate=lr)\n",
    "    #===================minimizar función de costo\n",
    "    train=opt.minimize(loss=loss)\n",
    "     \n",
    "\n",
    "\n",
    "print(\"============SECCIÓN SESIÓN PARA EJECUCIÓN DE GRAFO COMPUTACIONAL ================================\")\n",
    "    "
   ]
  },
  {
   "cell_type": "code",
   "execution_count": 24,
   "metadata": {},
   "outputs": [
    {
     "name": "stdout",
     "output_type": "stream",
     "text": [
      "WH\n",
      " [[ 0.96325177  0.71716386]\n",
      " [ 0.154409   -0.7483715 ]\n",
      " [-0.5098881  -2.824352  ]]  \n",
      " Wo \n",
      " [[-2.2862613  -1.3759279   0.8780124 ]\n",
      " [ 0.59385127  0.14374903  1.5190699 ]]\n",
      "[0.18768045, 0.18374512, 0.18003298, 0.17652372, 0.1732021, 0.17005712, 0.16708104, 0.16426837, 0.16161513, 0.15911803, 0.15677394, 0.1545795, 0.15253082, 0.15062329, 0.14885165, 0.14720996, 0.14569172, 0.14429003]\n"
     ]
    }
   ],
   "source": [
    "with tf.compat.v1.Session(graph=grafo) as sesion:\n",
    "    #inicializar variables globales\n",
    "    sesion.run(tf.compat.v1.global_variables_initializer())\n",
    "    #para cada epoca \n",
    "    for epoca in range(epocas):\n",
    "        #para cada mini-batch 2 mini batches\n",
    "        for i in range(2):\n",
    "            sesion.run(train,feed_dict={x:Input[i*B:i*B+B:1,:].reshape(R,B),T:Target[:,i*B:i*B+B:1]})\n",
    "        #mostrar cada 5 epocas\n",
    "        if epoca%5==0:\n",
    "            lossf.append(sesion.run(loss,feed_dict={x:Input[i*B:i*B+B:1,:].reshape(R,B),T:Target[:,i*B:i*B+B:1]}))\n",
    "    Whh=sesion.run(Wh)\n",
    "    Woo=sesion.run(Wo)\n",
    "    print(\"WH\\n\",sesion.run(Wh),\" \\n Wo \\n\",sesion.run(Wo))\n",
    "\n",
    "\n",
    "    \n",
    "print(lossf)"
   ]
  },
  {
   "cell_type": "code",
   "execution_count": 25,
   "metadata": {},
   "outputs": [
    {
     "name": "stdout",
     "output_type": "stream",
     "text": [
      "18 18\n"
     ]
    },
    {
     "data": {
      "image/png": "[encoded data removed]",
      "text/plain": [
       "<Figure size 432x288 with 1 Axes>"
      ]
     },
     "metadata": {
      "needs_background": "light"
     },
     "output_type": "display_data"
    }
   ],
   "source": [
    "epoca=np.arange(0,epocas,5)\n",
    "print(epoca.size,len(lossf))\n",
    "plt.plot(epoca,lossf)\n",
    "plt.title(\"ERROR DE APRENDIZAJE SUPERVISADO\")\n",
    "plt.xlabel(\"N° epocas \")\n",
    "plt.ylabel(\"Energia del Error\")\n",
    "plt.show()"
   ]
  },
  {
   "cell_type": "code",
   "execution_count": 229,
   "metadata": {},
   "outputs": [],
   "source": []
  }
 ],
 "metadata": {
  "kernelspec": {
   "display_name": "Python 3",
   "language": "python",
   "name": "python3"
  },
  "language_info": {
   "codemirror_mode": {
    "name": "ipython",
    "version": 3
   },
   "file_extension": ".py",
   "mimetype": "text/x-python",
   "name": "python",
   "nbconvert_exporter": "python",
   "pygments_lexer": "ipython3",
   "version": "3.7.2"
  }
 },
 "nbformat": 4,
 "nbformat_minor": 2
}
