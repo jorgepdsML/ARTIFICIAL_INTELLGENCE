{
 "cells": [
  {
   "cell_type": "markdown",
   "metadata": {},
   "source": [
    "### BRAINTELS LABS \n",
    "*ARTIFICIAL INTELLIGENCE , IMAGE PROCESSING & EMBEDDED SYSTEMS*"
   ]
  },
  {
   "cell_type": "code",
   "execution_count": 9,
   "metadata": {},
   "outputs": [
    {
     "name": "stdout",
     "output_type": "stream",
     "text": [
      "True\n"
     ]
    }
   ],
   "source": [
    "import tensorflow as tf\n",
    "import numpy as np\n",
    "#determinar que se encuentre en eager execution\n",
    "print(tf.executing_eagerly())"
   ]
  },
  {
   "cell_type": "markdown",
   "metadata": {},
   "source": [
    "### SavedModel Load\n",
    "Uso de la función **tf.saved_model.load(export_dir,tags)** para realizar la carga del **protobuf SavedModel** especificado en el directorio *export_path*. \n",
    "\n",
    "mediante el atributo signatures[\"key_signatures\"] , se retorna un función que representa la salida vs la entrada que fue definido en la creación del modelo.\n",
    "\n",
    "para evaluar o realizar inferencias sobre entradas  ,seguir la siguiente sintaxis:\n",
    "**Model=tf.saved_model.load(export_dir,tags)**\n",
    "\n",
    "**Funcion=Model.signatures[\"signature_del_modelo\"]**\n",
    "\n",
    "**y = Funcion(x=tensor_input)**\n",
    "\n",
    "**x => representa el nombre del tensor de entrada del modelo , tensor_input => el tensor a usar**\n",
    "\n",
    "**y=> es un diccionario cuyo key es igual al nombre del tensor de salida del modelo y el value es el tensor de salida del modelo cuya entrada fue tensor_input**"
   ]
  },
  {
   "cell_type": "code",
   "execution_count": 10,
   "metadata": {},
   "outputs": [
    {
     "name": "stdout",
     "output_type": "stream",
     "text": [
      "INFO:tensorflow:Saver not created because there are no variables in the graph to restore\n"
     ]
    }
   ],
   "source": [
    "#cargar SavedModel\n",
    "path=\"brainpb\"\n",
    "model=tf.saved_model.load(path,[\"my_graph\"])\n",
    "#atributo signatures\n",
    "funcion=model.signatures[\"signas\"]\n",
    "#evaluar sobre entrada xin\n"
   ]
  },
  {
   "cell_type": "code",
   "execution_count": 11,
   "metadata": {},
   "outputs": [
    {
     "name": "stdout",
     "output_type": "stream",
     "text": [
      "{'y': <tf.Tensor: id=96, shape=(3, 3), dtype=float32, numpy=\n",
      "array([[20., 20., 20.],\n",
      "       [20., 20., 20.],\n",
      "       [20., 20., 20.]], dtype=float32)>}\n"
     ]
    }
   ],
   "source": [
    "y=funcion(xin=8*tf.ones((3,3),dtype=tf.float32))\n",
    "print(y)"
   ]
  },
  {
   "cell_type": "code",
   "execution_count": null,
   "metadata": {},
   "outputs": [],
   "source": []
  }
 ],
 "metadata": {
  "kernelspec": {
   "display_name": "Python 3",
   "language": "python",
   "name": "python3"
  },
  "language_info": {
   "codemirror_mode": {
    "name": "ipython",
    "version": 3
   },
   "file_extension": ".py",
   "mimetype": "text/x-python",
   "name": "python",
   "nbconvert_exporter": "python",
   "pygments_lexer": "ipython3",
   "version": "3.7.2"
  }
 },
 "nbformat": 4,
 "nbformat_minor": 2
}
