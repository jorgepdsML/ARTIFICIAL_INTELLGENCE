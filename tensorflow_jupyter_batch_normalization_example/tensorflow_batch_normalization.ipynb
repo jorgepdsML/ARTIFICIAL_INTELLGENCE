{
 "cells": [
  {
   "cell_type": "markdown",
   "metadata": {},
   "source": [
    "----------------------> BRAINTELS LABS <------------------------"
   ]
  },
  {
   "cell_type": "code",
   "execution_count": 13,
   "metadata": {},
   "outputs": [
    {
     "name": "stdout",
     "output_type": "stream",
     "text": [
      "INPUT [2. 2. 2.] MEAN:  2.0\n",
      "OUTPUT [0. 0. 0.] MEAN:  0.0\n"
     ]
    }
   ],
   "source": [
    "\n",
    "#uso del batch normalization sobre datos de entrada \n",
    "#la función tf.nn.batch_normalization ()\n",
    "#parametros:\n",
    "# tensor de entrada\n",
    "# mean : valor medio del tensor de entrada tf.reduce_mean\n",
    "# variance: desviación standar del tensor de entrada tf.math.reduce-std\n",
    "# variance_epsilon : parametro de minima desvicación\n",
    "# scale: parametro de escalamiento\n",
    "#offset : parametro de desplazamiento\n",
    "import tensorflow as tf\n",
    "import numpy as np\n",
    "#---   deshabilitar modo eager ---\n",
    "tf.compat.v1.disable_eager_execution()\n",
    "#--- crear grafo -----\n",
    "grafo=tf.Graph()\n",
    "with grafo.as_default():\n",
    "    x=tf.constant([2,2,2],dtype=tf.float32,name=\"x\")\n",
    "    \n",
    "    y=tf.nn.batch_normalization(x,mean=tf.reduce_mean(x),variance=tf.math.reduce_std(x),variance_epsilon=0.00000001,scale=1,offset=0,name=\"y\")\n",
    "with tf.compat.v1.Session(graph=grafo) as sesion:\n",
    "    x=sesion.run(x)\n",
    "    print(\"INPUT\",x,\"MEAN: \",np.mean(x))\n",
    "    y=sesion.run(y)\n",
    "    print(\"OUTPUT\",y,\"MEAN: \",np.mean(y))"
   ]
  },
  {
   "cell_type": "markdown",
   "metadata": {},
   "source": []
  }
 ],
 "metadata": {
  "kernelspec": {
   "display_name": "Python 3",
   "language": "python",
   "name": "python3"
  },
  "language_info": {
   "codemirror_mode": {
    "name": "ipython",
    "version": 3
   },
   "file_extension": ".py",
   "mimetype": "text/x-python",
   "name": "python",
   "nbconvert_exporter": "python",
   "pygments_lexer": "ipython3",
   "version": "3.7.2"
  }
 },
 "nbformat": 4,
 "nbformat_minor": 2
}
