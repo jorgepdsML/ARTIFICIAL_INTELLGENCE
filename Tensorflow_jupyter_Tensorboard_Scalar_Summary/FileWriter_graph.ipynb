{
 "cells": [
  {
   "cell_type": "code",
   "execution_count": 1,
   "metadata": {},
   "outputs": [],
   "source": [
    "#importar \n",
    "import numpy as np\n",
    "import tensorflow as tf"
   ]
  },
  {
   "cell_type": "code",
   "execution_count": 2,
   "metadata": {},
   "outputs": [],
   "source": [
    "#deshabilitar modo eager\n",
    "tf.compat.v1.disable_eager_execution()\n",
    "#reiniciar grafo\n",
    "tf.compat.v1.reset_default_graph()"
   ]
  },
  {
   "cell_type": "code",
   "execution_count": 7,
   "metadata": {},
   "outputs": [],
   "source": [
    "#crear grafo computacional\n",
    "braintels=tf.Graph()\n",
    "with braintels.as_default():\n",
    "    #------------ crear una variable -----------------\n",
    "    #---inicializador\n",
    "    init1=tf.compat.v1.constant_initializer(1.0)\n",
    "    init2=tf.compat.v1.constant_initializer(2.0)\n",
    "    #--variable v1\n",
    "    \n",
    "    v1=tf.compat.v1.get_variable(name=\"v1\",shape=[1],initializer=init1)\n",
    "    #--variable v2\n",
    "    v2=tf.compat.v1.get_variable(name=\"v2\",shape=[1],initializer=init2)\n",
    "    #constante v3\n",
    "    v3=tf.constant(1.0)\n",
    "    #-------------salida y = v1**2 + v2**2\n",
    "    y=tf.add(tf.square(v1,name=\"square1\"),tf.square(v2,\"square2\"),name=\"y\")"
   ]
  },
  {
   "cell_type": "code",
   "execution_count": 8,
   "metadata": {},
   "outputs": [
    {
     "name": "stdout",
     "output_type": "stream",
     "text": [
      "[5.]\n"
     ]
    }
   ],
   "source": [
    "#crear sesion \n",
    "with tf.compat.v1.Session(graph=braintels) as sesion:\n",
    "    #inicializar todas las variables\n",
    "    sesion.run(tf.compat.v1.global_variables_initializer())\n",
    "    yval=sesion.run(y)\n",
    "    print(yval)\n",
    "    #crear objeto FileWriter\n",
    "    writer=tf.compat.v1.summary.FileWriter(\"logdir_graph\",graph=sesion.graph)\n",
    "    #cerrar writer \n",
    "writer.close()\n",
    "  \n",
    "    #--------------dirección url: \n"
   ]
  },
  {
   "cell_type": "markdown",
   "metadata": {},
   "source": [
    "*dirección URL* : \n",
    "http://localhost:6006/"
   ]
  },
  {
   "cell_type": "code",
   "execution_count": null,
   "metadata": {},
   "outputs": [],
   "source": []
  }
 ],
 "metadata": {
  "kernelspec": {
   "display_name": "Python 3",
   "language": "python",
   "name": "python3"
  },
  "language_info": {
   "codemirror_mode": {
    "name": "ipython",
    "version": 3
   },
   "file_extension": ".py",
   "mimetype": "text/x-python",
   "name": "python",
   "nbconvert_exporter": "python",
   "pygments_lexer": "ipython3",
   "version": "3.7.2"
  }
 },
 "nbformat": 4,
 "nbformat_minor": 2
}
