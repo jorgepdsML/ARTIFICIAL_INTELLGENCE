{
 "cells": [
  {
   "cell_type": "code",
   "execution_count": 301,
   "metadata": {},
   "outputs": [
    {
     "name": "stdout",
     "output_type": "stream",
     "text": [
      "EAGER MODO DESHABILITADO\n"
     ]
    }
   ],
   "source": [
    "#=============================Braintels Labs================================\n",
    "#======================written by jorge orlando miranda ñahui\n",
    "#========================jorge miranda redes neuronales====================================\n",
    "#======================clasificación de la logica XOR ==================================\n",
    "#importar las herramientas necesarias\n",
    "from matplotlib import pyplot as plt\n",
    "import numpy as np\n",
    "import tensorflow as tf\n",
    "tf.compat.v1.disable_eager_execution()\n",
    "print(\"EAGER MODO DESHABILITADO\")\n"
   ]
  },
  {
   "cell_type": "code",
   "execution_count": 302,
   "metadata": {},
   "outputs": [
    {
     "data": {
      "image/png": "[encoded data removed]",
      "text/plain": [
       "<Figure size 432x288 with 1 Axes>"
      ]
     },
     "metadata": {
      "needs_background": "light"
     },
     "output_type": "display_data"
    },
    {
     "name": "stdout",
     "output_type": "stream",
     "text": [
      "==================SECCIÓN GRAFO COMPUTACIONAL==============\n"
     ]
    }
   ],
   "source": [
    "#==================crear los datos de entrenamiento del problema del xor ===========\n",
    "Input=np.array([[-1,-1],\n",
    "                [-1,1],\n",
    "                [1,-1],\n",
    "                [1,1]])\n",
    "Target=np.array([ [1,0,0,1], # neurona 1 salida deseada\n",
    "                 [0,1,1,0]]) #neurona 2  salida deseada\n",
    "colores=['r','b','b','r']\n",
    "for a in range(4):\n",
    "    plt.scatter(Input[a,0],Input[a,1],c=colores[a])\n",
    "plt.show()\n",
    "#definir parametros\n",
    "R=2 # ESTE PARAMETRO INDICA LA CANTIDAD DE ENTRADAS , 2 ENTRADAS\n",
    "B=2 # ESTE PARAMETRO INDICA EL TAMAÑO DEL MINI BATCH , 2 EJEMPLOS POR ACTUALIZACIÓN\n",
    "So=2 # Número de neuronas de salida\n",
    "epocas=90 # NÚMERO DE EPOCAS\n",
    "lr=0.1\n",
    "lossf=[]\n",
    "print(\"==================SECCIÓN GRAFO COMPUTACIONAL==============\")\n"
   ]
  },
  {
   "cell_type": "code",
   "execution_count": 303,
   "metadata": {},
   "outputs": [
    {
     "name": "stdout",
     "output_type": "stream",
     "text": [
      "============SECCIÓN SESIÓN PARA EJECUCIÓN DE GRAFO COMPUTACIONAL ================================\n"
     ]
    }
   ],
   "source": [
    "()#==============================crear grafo ===============================\n",
    "grafo=tf.Graph()\n",
    "#========================agregar operaciones al grafo ==========================\n",
    "with grafo.as_default():\n",
    "    #==============CREAR PLACEHOLDER RxB (R =>2 entradas) , (B => Batch 2 ejemplos)\n",
    "    x=tf.compat.v1.placeholder(shape=(R,None),dtype=tf.float32,name=\"X\")\n",
    "    #===============CREAR PLACEHOLDER Target SoxB\n",
    "    T=tf.compat.v1.placeholder(shape=(So,None),dtype=tf.float32,name=\"T\")\n",
    "    #===============Crear Matriz de pesos sinapticos de capa oculta ShxR\n",
    "    #Sh=> 2 neuronas ocultas , R entradas =>2\n",
    "    Wh=tf.Variable(np.random.randn(3,2),dtype=tf.float32,name=\"Wh\")\n",
    "    #===============Crear Matriz de pesos sinapticos de capa de salida SoxSh\n",
    "    Wo=tf.Variable(np.random.randn(2,3),dtype=tf.float32,name=\"Wo\")\n",
    "    #ENTRADA NETA v2 ShxB CAPA OCULTA\n",
    "    V1=tf.matmul(Wh,x,name=\"v1\")\n",
    "    #SALIDA DE LA CAPA OCULTA RELU ShxB\n",
    "    Y1=tf.nn.relu(V1,name=\"Y1\")\n",
    "    \n",
    "    #=====================CAPA DE SALIDA===========================\n",
    "    #ENTRADA NETA v2 SxB\n",
    "    V2=tf.matmul(Wo,Y1,name=\"v2\")\n",
    "    #SALIDA FUNCIÓN DE ACTIVACIÓN SOFTMAX SxB\n",
    "    Y2=tf.nn.sigmoid(V2,name=\"y2\")\n",
    "    #===================Crear Función De Costo\n",
    "    loss=tf.reduce_mean(tf.square(T-Y2))\n",
    "    #===================back propagation ==============\n",
    "    opt=tf.compat.v1.train.GradientDescentOptimizer(learning_rate=lr)\n",
    "    #===================minimizar función de costo\n",
    "    train=opt.minimize(loss=loss)\n",
    "     \n",
    "\n",
    "\n",
    "print(\"============SECCIÓN SESIÓN PARA EJECUCIÓN DE GRAFO COMPUTACIONAL ================================\")\n",
    "    "
   ]
  },
  {
   "cell_type": "code",
   "execution_count": 304,
   "metadata": {},
   "outputs": [
    {
     "name": "stdout",
     "output_type": "stream",
     "text": [
      "WH\n",
      " [[ 0.73852396 -0.7037522 ]\n",
      " [ 0.7766993  -0.23220058]\n",
      " [ 1.101566    0.654087  ]]  \n",
      " Wo \n",
      " [[ 0.69190973  0.62935823 -1.5134383 ]\n",
      " [-0.66478133 -0.03405822  0.9698818 ]]\n",
      "[0.2054712, 0.18902211, 0.17701411, 0.16806641, 0.16125315, 0.1559588, 0.1517691, 0.14839949, 0.1456504, 0.1433789, 0.14148054, 0.13987777, 0.13851207, 0.13733864, 0.13632269, 0.13543698, 0.13465989, 0.13397409]\n"
     ]
    }
   ],
   "source": [
    "with tf.compat.v1.Session(graph=grafo) as sesion:\n",
    "    #inicializar variables globales\n",
    "    sesion.run(tf.compat.v1.global_variables_initializer())\n",
    "    #para cada epoca \n",
    "    for epoca in range(epocas):\n",
    "        #para cada mini-batch 2 mini batches\n",
    "        for i in range(2):\n",
    "            sesion.run(train,feed_dict={x:Input[i*B:i*B+B:1,:].reshape(R,B),T:Target[:,i*B:i*B+B:1]})\n",
    "        #mostrar cada 5 epocas\n",
    "        if epoca%5==0:\n",
    "            lossf.append(sesion.run(loss,feed_dict={x:Input[i*B:i*B+B:1,:].reshape(R,B),T:Target[:,i*B:i*B+B:1]}))\n",
    "    Whh=sesion.run(Wh)\n",
    "    Woo=sesion.run(Wo)\n",
    "    print(\"WH\\n\",sesion.run(Wh),\" \\n Wo \\n\",sesion.run(Wo))\n",
    "\n",
    "\n",
    "    \n",
    "print(lossf)"
   ]
  },
  {
   "cell_type": "code",
   "execution_count": 305,
   "metadata": {},
   "outputs": [
    {
     "name": "stdout",
     "output_type": "stream",
     "text": [
      "18 18\n"
     ]
    },
    {
     "data": {
      "image/png": "[encoded data removed]",
      "text/plain": [
       "<Figure size 432x288 with 1 Axes>"
      ]
     },
     "metadata": {
      "needs_background": "light"
     },
     "output_type": "display_data"
    }
   ],
   "source": [
    "epoca=np.arange(0,epocas,5)\n",
    "print(epoca.size,len(lossf))\n",
    "plt.plot(epoca,lossf)\n",
    "plt.title(\"Función de Costo Energia del Error\")\n",
    "plt.xlabel(\"EPOCAS\")\n",
    "plt.ylabel(\"Loss\")\n",
    "plt.show()"
   ]
  },
  {
   "cell_type": "code",
   "execution_count": 229,
   "metadata": {},
   "outputs": [],
   "source": []
  }
 ],
 "metadata": {
  "kernelspec": {
   "display_name": "Python 3",
   "language": "python",
   "name": "python3"
  },
  "language_info": {
   "codemirror_mode": {
    "name": "ipython",
    "version": 3
   },
   "file_extension": ".py",
   "mimetype": "text/x-python",
   "name": "python",
   "nbconvert_exporter": "python",
   "pygments_lexer": "ipython3",
   "version": "3.7.2"
  }
 },
 "nbformat": 4,
 "nbformat_minor": 2
}
