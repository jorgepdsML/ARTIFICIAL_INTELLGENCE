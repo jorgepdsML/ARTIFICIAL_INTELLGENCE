{
  "nbformat": 4,
  "nbformat_minor": 0,
  "metadata": {
    "colab": {
      "name": "Face_Recognition_Vgg16CNN_Tensorflow.ipynb",
      "provenance": [],
      "collapsed_sections": []
    },
    "kernelspec": {
      "name": "python3",
      "display_name": "Python 3"
    }
  },
  "cells": [
    {
      "cell_type": "code",
      "metadata": {
        "id": "CHlkjYgZCSwl",
        "colab_type": "code",
        "colab": {
          "base_uri": "https://localhost:8080/",
          "height": 34
        },
        "outputId": "6e6d1cdb-d9a9-466c-8096-3b3c4862fcf8"
      },
      "source": [
        "#=======IMPORT HERRAMIENTAS NECESARIAS\n",
        "import os\n",
        "import numpy as np\n",
        "import tensorflow as tf\n",
        "tf.compat.v1.disable_eager_execution()\n",
        "import cv2\n",
        "from matplotlib import pyplot as plt\n",
        "from zipfile import ZipFile\n",
        "with ZipFile(\"personas.zip\",'r') as zipp:\n",
        "  zipp.extractall()\n",
        "  print(\"DONE\")\n"
      ],
      "execution_count": 17,
      "outputs": [
        {
          "output_type": "stream",
          "text": [
            "DONE\n"
          ],
          "name": "stdout"
        }
      ]
    },
    {
      "cell_type": "code",
      "metadata": {
        "id": "o6_vjT-xCX4-",
        "colab_type": "code",
        "outputId": "6b9a7669-f4c8-4862-cc15-1e01249f79ad",
        "colab": {
          "base_uri": "https://localhost:8080/",
          "height": 85
        }
      },
      "source": [
        "#=======IMPORTAR EL DATASET DISPONIBLE ============================\n",
        "#lista con los nombres de personas \n",
        "nombres=[\"ann_veneman_\",\"adrien_brody_\",\"richard_gephardt_\",\"winona_ryder_\"]\n",
        "path=os.getcwd()\n",
        "datas=[]\n",
        "for na in nombres:\n",
        "    #CONSEGUIR LA CANTIDAD DE ELEMENTOS DEL DATASET\n",
        "    N=len(os.listdir(os.path.join(\"personas/\",na)))\n",
        "    datas.append(N)\n",
        "#NÚMERO DE MUESTRAS DISPONIBLES DE TODO EL DATASET\n",
        "Ns=0\n",
        "#DETERMINAR LA CANTIDAD DE MUESTRAS POR PERSONA\n",
        "for a in datas:\n",
        "    Ns=a+Ns\n",
        "print('MUESTRAS EN TOTAL',Ns)\n",
        "print('MUESTRAS POR PERSONAS',datas)\n",
        "#CREAR LAS ENTRDAS DESEADAS DE LAS IMAGENES \n",
        "X=[]\n",
        "for na in nombres:\n",
        "    #cada nombre\n",
        "    faces=os.listdir(os.path.join(\"personas/\",na))\n",
        "    #print(faces)\n",
        "    for im in faces:\n",
        "        #leer la imagen\n",
        "        Igray=plt.imread(os.path.join(\"personas/\",na,im))\n",
        "        #realizar un cambio de dimensiones a 224,224 \n",
        "        imr=cv2.resize(Igray,(224,224),interpolation=cv2.INTER_CUBIC)\n",
        "        #realizar un cambio de escalamiento a la imagen imr\n",
        "        imr=imr.astype(np.float)\n",
        "        imr=imr/np.max(imr)-0.5\n",
        "        #agregar a la lista X\n",
        "        X.append(imr)\n",
        "\n",
        "\n",
        "\n",
        "#==================TARGET VALUES ==========================\n",
        "t=[]\n",
        "#para cada dato\n",
        "for val ,it in zip(datas,range(len(datas))):\n",
        "    for i in range(val):\n",
        "        t.append(it)\n",
        "#definir función one_hot_encoding(t,N)\n",
        "def one_hot_encoding(t,N=None):\n",
        "    S=len(t)\n",
        "    if N is None:\n",
        "        print(\"ERROR\")\n",
        "    else:\n",
        "        #obtener la información de los elementos de la lista t\n",
        "        T=np.zeros((S,N),dtype=np.float)\n",
        "        #realizar un recorrido sobre cada elemento de la lista t\n",
        "        for v,i in zip(t,range(S)):\n",
        "            if v <N and isinstance(v,int):\n",
        "                #si i es un valor menor que el parametro S cantidad de muestras\n",
        "                T[i,v]=1\n",
        "            else:\n",
        "                break\n",
        "        return T\n",
        "#convertir los labels en matriz mediante el método de one-hot-encoding\n",
        "T=one_hot_encoding(t,N=4)\n",
        "print('INPUT: ',X[0].shape,'MUESTRAS: ',len(X))\n",
        "print('TARGET: N clases ', T.shape[1],'MUESTRAS',T.shape[0])"
      ],
      "execution_count": 30,
      "outputs": [
        {
          "output_type": "stream",
          "text": [
            "MUESTRAS EN TOTAL 58\n",
            "MUESTRAS POR PERSONAS [11, 12, 11, 24]\n",
            "INPUT:  (224, 224) MUESTRAS:  58\n",
            "TARGET: N clases  4 MUESTRAS 58\n"
          ],
          "name": "stdout"
        }
      ]
    },
    {
      "cell_type": "code",
      "metadata": {
        "id": "g45FHOzVCdCs",
        "colab_type": "code",
        "colab": {}
      },
      "source": [
        "Batch_size=1\n",
        "input_channels=1\n",
        "N_clases = 4"
      ],
      "execution_count": 0,
      "outputs": []
    },
    {
      "cell_type": "code",
      "metadata": {
        "id": "LfB29xqoCgLO",
        "colab_type": "code",
        "colab": {
          "base_uri": "https://localhost:8080/",
          "height": 34
        },
        "outputId": "9c6db50e-abf5-4b93-b5f9-dfc16dc56aaf"
      },
      "source": [
        "grafo=tf.Graph()\n",
        "#========CREAR LA ARQUITECTURA VGG16 ===============\n",
        "with grafo.as_default():\n",
        "    #----------============CREAR TENSORES DE ENTRADA----------=============\n",
        "    #-PLACEHOLDER\n",
        "    Xi=tf.compat.v1.placeholder(shape=(Batch_size,224,224,input_channels),dtype=tf.float32,name=\"Xi\")\n",
        "    Ti=tf.compat.v1.placeholder(shape=(4,Batch_size),dtype=tf.float32,name=\"Ti\")\n",
        "    # ig=np.expand_dims(np.zeros((224,224,3),dtype=np.float),axis=0)\n",
        "    # img=tf.constant(ig,dtype=tf.float32,name=\"img\")\n",
        "    # -------------------------------------------\n",
        "\n",
        "    # ---------------------INPUT <=> 224,224,input_channels\n",
        "    # --------------- bloque 1 --------------\n",
        "    # conv2d 3x3\n",
        "    W11 = tf.Variable(np.random.randn(3, 3, input_channels, 64), dtype=tf.float32, name=\"W11\")\n",
        "    conv11 = tf.nn.conv2d(Xi, filters=W11, data_format=\"NHWC\", padding=\"SAME\", strides=1)\n",
        "    conv11=tf.nn.relu(conv11)\n",
        "    W12 = tf.Variable(np.random.randn(3, 3, 64, 64), dtype=tf.float32, name=\"W12\")\n",
        "    conv12 = tf.nn.conv2d(conv11, filters=W12, data_format=\"NHWC\", padding=\"SAME\", strides=1)\n",
        "    conv112 = tf.nn.relu(conv12)\n",
        "    # max_pool2d\n",
        "    max12 = tf.nn.max_pool2d(conv12, ksize=(2, 2), strides=(2, 2), padding=\"VALID\")\n",
        "    # ---------------- (OUTPUT <=>) 112,112,64\n",
        "\n",
        "    # ---------------------INPUT <=> 112,112,64\n",
        "    # --------------- bloque 2 --------------\n",
        "    # conv2d 3x3\n",
        "    W21 = tf.Variable(np.random.randn(3, 3, 64, 128), dtype=tf.float32, name=\"W21\")\n",
        "    conv21 = tf.nn.conv2d(max12, filters=W21, data_format=\"NHWC\", padding=\"SAME\", strides=1)\n",
        "    conv21=tf.nn.relu(conv21)\n",
        "    W22 = tf.Variable(np.random.randn(3, 3, 128, 128), dtype=tf.float32, name=\"W22\")\n",
        "    conv22 = tf.nn.conv2d(conv21, filters=W22, data_format=\"NHWC\", padding=\"SAME\", strides=1)\n",
        "    conv22=tf.nn.relu(conv22)\n",
        "    # relu\n",
        "    # relu22 = tf.nn.relu(conv22)\n",
        "    # max_pool2d\n",
        "    max22 = tf.nn.max_pool2d(conv22, ksize=(2, 2), strides=(2, 2), padding=\"VALID\")\n",
        "    # ---------------- (OUTPUT <=>) 56,56,128\n",
        "\n",
        "    # ---------------------INPUT <=> 56,56,128\n",
        "    # --------------- bloque 3 --------------\n",
        "    # conv2d 3x3\n",
        "    W31 = tf.Variable(np.random.randn(3, 3, 128, 256), dtype=tf.float32, name=\"W31\")\n",
        "    conv31 = tf.nn.conv2d(max22, filters=W31, data_format=\"NHWC\", padding=\"SAME\", strides=1)\n",
        "    conv31 = tf.nn.relu(conv31)\n",
        "    W32 = tf.Variable(np.random.randn(3, 3, 256, 256), dtype=tf.float32, name=\"W32\")\n",
        "    conv32 = tf.nn.conv2d(conv31, filters=W32, data_format=\"NHWC\", padding=\"SAME\", strides=1)\n",
        "    conv32 = tf.nn.relu(conv32)\n",
        "    W33 = tf.Variable(np.random.randn(3, 3, 256, 256), dtype=tf.float32, name=\"W33\")\n",
        "    conv33 = tf.nn.conv2d(conv32, filters=W33, data_format=\"NHWC\", padding=\"SAME\", strides=1)\n",
        "    conv33 = tf.nn.relu(conv33)\n",
        "    # relu\n",
        "    # relu22 = tf.nn.relu(conv22)\n",
        "    # max_pool2d\n",
        "    max32 = tf.nn.max_pool2d(conv33, ksize=(2, 2), strides=(2, 2), padding=\"VALID\")\n",
        "    # ---------------- (OUTPUT <=>) 28,28,256\n",
        "\n",
        "    # ---------------------INPUT <=> 28,28,256\n",
        "    # --------------- bloque 4 --------------\n",
        "    # conv2d 3x3\n",
        "    W41 = tf.Variable(np.random.randn(3, 3, 256, 512), dtype=tf.float32, name=\"W41\")\n",
        "    conv41 = tf.nn.conv2d(max32, filters=W41, data_format=\"NHWC\", padding=\"SAME\", strides=1)\n",
        "    conv41 = tf.nn.relu(conv41)\n",
        "    W42 = tf.Variable(np.random.randn(3, 3, 512, 512), dtype=tf.float32, name=\"W42\")\n",
        "    conv42 = tf.nn.conv2d(conv41, filters=W42, data_format=\"NHWC\", padding=\"SAME\", strides=1)\n",
        "    conv42 = tf.nn.relu(conv42)\n",
        "    W43 = tf.Variable(np.random.randn(3, 3, 512, 512), dtype=tf.float32, name=\"W43\")\n",
        "    conv43 = tf.nn.conv2d(conv42, filters=W43, data_format=\"NHWC\", padding=\"SAME\", strides=1)\n",
        "    conv43 = tf.nn.relu(conv43)\n",
        "    # relu\n",
        "    # relu22 = tf.nn.relu(conv22)\n",
        "    # max_pool2d\n",
        "    max42 = tf.nn.max_pool2d(conv43, ksize=(2, 2), strides=(2, 2), padding=\"VALID\")\n",
        "    # ---------------- (OUTPUT <=>) 14,14,512\n",
        "    # ---------------------INPUT <=> 14,14,512\n",
        "    # --------------- bloque 5 --------------\n",
        "    # conv2d 3x3\n",
        "    W51 = tf.Variable(np.random.randn(3, 3, 512, 512), dtype=tf.float32, name=\"W51\")\n",
        "    conv51 = tf.nn.conv2d(max42, filters=W51, data_format=\"NHWC\", padding=\"SAME\", strides=1)\n",
        "    conv51 = tf.nn.relu(conv51)\n",
        "    W52 = tf.Variable(np.random.randn(3, 3, 512, 512), dtype=tf.float32, name=\"W52\")\n",
        "    conv52 = tf.nn.conv2d(conv51, filters=W52, data_format=\"NHWC\", padding=\"SAME\", strides=1)\n",
        "    conv52 = tf.nn.relu(conv52)\n",
        "    W53 = tf.Variable(np.random.randn(3, 3, 512, 512), dtype=tf.float32, name=\"W53\")\n",
        "    conv53 = tf.nn.conv2d(conv52, filters=W53, data_format=\"NHWC\", padding=\"SAME\", strides=1)\n",
        "    conv53 = tf.nn.relu(conv53)\n",
        "    # relu\n",
        "    # relu22 = tf.nn.relu(conv22)\n",
        "    # max_pool2d\n",
        "    max52 = tf.nn.max_pool2d(conv53, ksize=(2, 2), strides=(2, 2), padding=\"VALID\")\n",
        "    # ---------------- (OUTPUT <=>) 7,7,512\n",
        "    # =============INPUT 7,7,512 ===== (7x7x512)\n",
        "    # ------------------CAPAS DE FULLY CONNECTED\n",
        "    dim1 = tf.size(max52)\n",
        "    I1 = tf.reshape(max52, [dim1, 1])  # Rx1\n",
        "    # -------------CAPA OCULTA 1   #SxR\n",
        "    fc1 = tf.Variable(np.random.randn(4096, 25088), dtype=tf.float32, name=\"FC1\")\n",
        "    # ---------MULTIPLICAR (MATMUL FC1 * RESHAPE(max52))\n",
        "    OUT1 = tf.matmul(fc1, I1, name=\"OUT_FC1\")\n",
        "    #uso del dropout\n",
        "    OUT1=tf.nn.dropout(OUT1,rate=0.5)\n",
        "    OUT1 = tf.nn.relu(OUT1)\n",
        "    # ------------------------OUTPUT S1x1\n",
        "    # ------------------INPUT Sx1\n",
        "    # -------------CAPA OCULTA 2      S2xS1\n",
        "    fc2 = tf.Variable(np.random.randn(4096, 4096), dtype=tf.float32, name=\"FC2\")\n",
        "    # --------MULTIPLICAR (MATMUL FC2*OUT1)\n",
        "    OUT2 = tf.matmul(fc2, OUT1)\n",
        "    OUT2=tf.nn.dropout(OUT2,rate=0.5)\n",
        "    OUT2 = tf.nn.relu(OUT2)\n",
        "    # ---------SOFTMAX 10 NEURONAS N_clases x S2\n",
        "    fc3 = tf.Variable(np.random.randn(N_clases, 4096), dtype=tf.float32, name=\"FC3\")\n",
        "    OUT3 = tf.matmul(fc3, OUT2)\n",
        "    # -softmax\n",
        "    Y = tf.nn.softmax(OUT3,axis=0)\n",
        "    # ------------------------------------\n",
        "    #FUNCION DE COSTO loss_energy\n",
        "    loss_energy_error=tf.reduce_mean(tf.square(Y-Ti))\n",
        "    # CREAR FUNCION DE COSTO CROSS_ENTROPY\n",
        "\n",
        "    #loss = tf.matmul(-tf.transpose(Ti), -tf.math.log(tf.add(y,0.000001)))\n",
        "    # ----------- 2 ETAPA BACKWARD PHASE\n",
        "    # --BACKPROPAGATION\n",
        "    optimizador=tf.compat.v1.train.GradientDescentOptimizer(learning_rate=0.0009)\n",
        "    train=optimizador.minimize(loss=loss_energy_error)\n",
        "print(\"===OK===\")"
      ],
      "execution_count": 36,
      "outputs": [
        {
          "output_type": "stream",
          "text": [
            "===OK===\n"
          ],
          "name": "stdout"
        }
      ]
    },
    {
      "cell_type": "code",
      "metadata": {
        "id": "79849LRvCiID",
        "colab_type": "code",
        "colab": {}
      },
      "source": [
        "lossf=[]"
      ],
      "execution_count": 0,
      "outputs": []
    },
    {
      "cell_type": "code",
      "metadata": {
        "id": "SnhZJ5zFCkWw",
        "colab_type": "code",
        "colab": {
          "base_uri": "https://localhost:8080/",
          "height": 187
        },
        "outputId": "46ecb7d2-8ed9-4e0e-a5fe-370494191f65"
      },
      "source": [
        "#==========CREAR SESION PARA EJECUTAR EL GRAFO COMPUTACIONAL =============\n",
        "with tf.compat.v1.Session(graph=grafo) as sesion:\n",
        "    sesion.run(tf.compat.v1.global_variables_initializer())\n",
        "    #print(sesion.run(tf.shape(loss)))\n",
        "    #print(sesion.run(tf.size(loss)))\n",
        "    epocas=20\n",
        "    #para cada epoca\n",
        "    for epoca in range(epocas):\n",
        "        #para cada ejemplo\n",
        "        for i in range(Ns):\n",
        "            sesion.run(train,feed_dict={Xi:np.reshape(X[i],(1,224,224,1)),Ti:np.reshape(T[i,:],(4,1))})\n",
        "        if epoca%2==0:\n",
        "            lossf.append(sesion.run(loss_energy_error,feed_dict={Xi:np.reshape(X[i],(1,224,224,1)),Ti:np.reshape(T[i,:],(4,1))}))\n",
        "            print('===== EPOCA N ===={}'.format(epoca),lossf)\n"
      ],
      "execution_count": 37,
      "outputs": [
        {
          "output_type": "stream",
          "text": [
            "===== EPOCA N ====0 [0.0, 0.0, 0.0, 0.0, 0.5]\n",
            "===== EPOCA N ====2 [0.0, 0.0, 0.0, 0.0, 0.5, 0.5]\n",
            "===== EPOCA N ====4 [0.0, 0.0, 0.0, 0.0, 0.5, 0.5, 0.5]\n",
            "===== EPOCA N ====6 [0.0, 0.0, 0.0, 0.0, 0.5, 0.5, 0.5, 0.0]\n",
            "===== EPOCA N ====8 [0.0, 0.0, 0.0, 0.0, 0.5, 0.5, 0.5, 0.0, 0.5]\n",
            "===== EPOCA N ====10 [0.0, 0.0, 0.0, 0.0, 0.5, 0.5, 0.5, 0.0, 0.5, 0.5]\n",
            "===== EPOCA N ====12 [0.0, 0.0, 0.0, 0.0, 0.5, 0.5, 0.5, 0.0, 0.5, 0.5, 0.5]\n",
            "===== EPOCA N ====14 [0.0, 0.0, 0.0, 0.0, 0.5, 0.5, 0.5, 0.0, 0.5, 0.5, 0.5, 0.0]\n",
            "===== EPOCA N ====16 [0.0, 0.0, 0.0, 0.0, 0.5, 0.5, 0.5, 0.0, 0.5, 0.5, 0.5, 0.0, 0.5]\n",
            "===== EPOCA N ====18 [0.0, 0.0, 0.0, 0.0, 0.5, 0.5, 0.5, 0.0, 0.5, 0.5, 0.5, 0.0, 0.5, 0.5]\n"
          ],
          "name": "stdout"
        }
      ]
    },
    {
      "cell_type": "code",
      "metadata": {
        "id": "BvYs7Nd-CouA",
        "colab_type": "code",
        "colab": {
          "base_uri": "https://localhost:8080/",
          "height": 329
        },
        "outputId": "b9c922ef-ac79-4fa1-9a20-90ab433c02a9"
      },
      "source": [
        "costos=lossf.copy()\n",
        "epoca=np.arange(0,epocas,2)\n",
        "print(epoca.size,len(lossf))\n",
        "plt.plot(epoca,lossf)\n",
        "plt.title(\"ERROR DE APRENDIZAJE SUPERVISADO\")\n",
        "plt.xlabel(\"N° epocas \")\n",
        "plt.ylabel(\"Energia del Error\")\n",
        "plt.show()\n",
        "print(lossf)"
      ],
      "execution_count": 29,
      "outputs": [
        {
          "output_type": "stream",
          "text": [
            "10 10\n"
          ],
          "name": "stdout"
        },
        {
          "output_type": "display_data",
          "data": {
            "image/png": "[encoded data removed]",
            "text/plain": [
              "<Figure size 432x288 with 1 Axes>"
            ]
          },
          "metadata": {
            "tags": []
          }
        },
        {
          "output_type": "stream",
          "text": [
            "[0.5, 0.5, 0.5, 0.5, 0.5, 0.5, 0.5, 0.5, 0.5, 0.5]\n"
          ],
          "name": "stdout"
        }
      ]
    },
    {
      "cell_type": "markdown",
      "metadata": {
        "id": "coblEk4TCtlw",
        "colab_type": "text"
      },
      "source": [
        "# New Section"
      ]
    }
  ]
}