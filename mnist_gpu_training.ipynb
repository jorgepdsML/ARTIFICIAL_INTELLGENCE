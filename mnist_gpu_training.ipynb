{
  "nbformat": 4,
  "nbformat_minor": 0,
  "metadata": {
    "colab": {
      "name": "mnist_gpu_training.ipynb",
      "provenance": [],
      "collapsed_sections": [],
      "authorship_tag": "ABX9TyMkfc+9ZWHMoRKjn2kAmIXe",
      "include_colab_link": true
    },
    "kernelspec": {
      "name": "python3",
      "display_name": "Python 3"
    },
    "accelerator": "GPU"
  },
  "cells": [
    {
      "cell_type": "markdown",
      "metadata": {
        "id": "view-in-github",
        "colab_type": "text"
      },
      "source": [
        "<a href=\"https://colab.research.google.com/github/jorgepdsML/ARTIFICIAL_INTELLIGENCE_TENSORFLOW/blob/master/mnist_gpu_training.ipynb\" target=\"_parent\"><img src=\"https://colab.research.google.com/assets/colab-badge.svg\" alt=\"Open In Colab\"/></a>"
      ]
    },
    {
      "cell_type": "markdown",
      "metadata": {
        "id": "CegYZaPRIvhm",
        "colab_type": "text"
      },
      "source": [
        "============= BRAINTELS LABS ===================\n",
        "ARTIFICIAL INTELLIGENCE WITH TENSORFLOW ======= USE OF GPU ===="
      ]
    },
    {
      "cell_type": "code",
      "metadata": {
        "id": "wuzoebedImDa",
        "colab_type": "code",
        "colab": {
          "base_uri": "https://localhost:8080/",
          "height": 85
        },
        "outputId": "e2c34dd6-8e88-4e13-986d-63f3b885aa14"
      },
      "source": [
        "#Importar las herramientas necesarias\n",
        "import tensorflow as tf \n",
        "import time\n",
        "import numpy as np\n",
        "#Version de tensorflow\n",
        "print(tf.__version__)\n",
        "#mostrar los dispositivos GPU disponibles\n",
        "print(tf.compat.v1.test.gpu_device_name())\n",
        "#modo eager habilitado\n",
        "#tf.compat.v1.disable_eager_execution()\n",
        "#mostrar los GPU fisicos disponibles\n",
        "print(\"Cantidad de GPU dispnibles:\",len(tf.config.experimental.list_physical_devices('GPU')))\n",
        "#mostrar los nombres de los GPU si en caso se encuentren disponibles\n",
        "print('Nombres de los GPUs :',tf.test.gpu_device_name())\n"
      ],
      "execution_count": 7,
      "outputs": [
        {
          "output_type": "stream",
          "text": [
            "2.2.0-rc1\n",
            "/device:GPU:0\n",
            "Cantidad de GPU dispnibles: 1\n",
            "Nombres de los GPUs : /device:GPU:0\n"
          ],
          "name": "stdout"
        }
      ]
    },
    {
      "cell_type": "code",
      "metadata": {
        "id": "pz-5Dl0JwR1d",
        "colab_type": "code",
        "colab": {
          "base_uri": "https://localhost:8080/",
          "height": 51
        },
        "outputId": "a90d137d-45bc-4b37-956b-4857c76dc21b"
      },
      "source": [
        "#===================Cargar el dataset MNIST Keras======================\n",
        "Data=tf.keras.datasets.mnist\n",
        "(x_train,y_train),(x_val,y_val)=Data.load_data()\n",
        "#normalizar entrada de entrenamiento\n",
        "x_train=x_train/np.max(x_train)\n",
        "#normalizar entrada de validacion\n",
        "x_val=x_val/np.max(x_val)\n",
        "\n"
      ],
      "execution_count": 8,
      "outputs": [
        {
          "output_type": "stream",
          "text": [
            "Downloading data from https://storage.googleapis.com/tensorflow/tf-keras-datasets/mnist.npz\n",
            "11493376/11490434 [==============================] - 0s 0us/step\n"
          ],
          "name": "stdout"
        }
      ]
    },
    {
      "cell_type": "code",
      "metadata": {
        "id": "PouDjSRLwUlH",
        "colab_type": "code",
        "colab": {
          "base_uri": "https://localhost:8080/",
          "height": 374
        },
        "outputId": "fb87954e-d3ef-496a-f0de-5e9344dd69ee"
      },
      "source": [
        "#================Seleccionar el GPU ==================================\n",
        "with tf.device('/GPU:0'):\n",
        "  #crear modelo mediante el uso de Keras\n",
        "  modelo=tf.keras.Sequential()\n",
        "  #convertir matriz de entrada en un array de (28*28)x1\n",
        "  modelo.add(tf.keras.layers.Flatten(input_shape=(28,28)))\n",
        "  #definir 600 neuronas ocultas con funcion de activacion relu\n",
        "  modelo.add(tf.keras.layers.Dense(units=600,activation=tf.nn.relu))\n",
        "  #metodo dropout para desactivar neuronas ocultas en un 40 % \n",
        "  modelo.add(tf.keras.layers.Dropout(0.4))\n",
        "  #capa de salida con 10 neuronas (1 neuronas por clase) , funcion de activacion softmax\n",
        "  modelo.add(tf.keras.layers.Dense(units=10,activation=tf.nn.softmax))\n",
        "  #============metodo compile para especificar el algoritmo , metrica y funcion de costo\n",
        "  modelo.compile(optimizer='rmsprop',\n",
        "              loss='sparse_categorical_crossentropy',\n",
        "              metrics=['accuracy'])\n",
        "  #============uso del metodo fit para realizar el entrenamiento ===============\n",
        "  modelo.fit(x_train,y_train,epochs=10)\n",
        "  #==============evaluar el rendimiento del modeo con datos de validacion========\n",
        "  modelo.evaluate(x_val,y_val)\n"
      ],
      "execution_count": 9,
      "outputs": [
        {
          "output_type": "stream",
          "text": [
            "Epoch 1/10\n",
            "1875/1875 [==============================] - 4s 2ms/step - loss: 0.2490 - accuracy: 0.9266\n",
            "Epoch 2/10\n",
            "1875/1875 [==============================] - 4s 2ms/step - loss: 0.1351 - accuracy: 0.9627\n",
            "Epoch 3/10\n",
            "1875/1875 [==============================] - 4s 2ms/step - loss: 0.1116 - accuracy: 0.9702\n",
            "Epoch 4/10\n",
            "1875/1875 [==============================] - 4s 2ms/step - loss: 0.1011 - accuracy: 0.9740\n",
            "Epoch 5/10\n",
            "1875/1875 [==============================] - 4s 2ms/step - loss: 0.0936 - accuracy: 0.9772\n",
            "Epoch 6/10\n",
            "1875/1875 [==============================] - 4s 2ms/step - loss: 0.0861 - accuracy: 0.9792\n",
            "Epoch 7/10\n",
            "1875/1875 [==============================] - 4s 2ms/step - loss: 0.0826 - accuracy: 0.9809\n",
            "Epoch 8/10\n",
            "1875/1875 [==============================] - 4s 2ms/step - loss: 0.0763 - accuracy: 0.9822\n",
            "Epoch 9/10\n",
            "1875/1875 [==============================] - 4s 2ms/step - loss: 0.0731 - accuracy: 0.9836\n",
            "Epoch 10/10\n",
            "1875/1875 [==============================] - 4s 2ms/step - loss: 0.0698 - accuracy: 0.9842\n",
            "313/313 [==============================] - 0s 2ms/step - loss: 0.0976 - accuracy: 0.9813\n"
          ],
          "name": "stdout"
        }
      ]
    },
    {
      "cell_type": "code",
      "metadata": {
        "id": "dk0UGdOlwUhQ",
        "colab_type": "code",
        "colab": {}
      },
      "source": [
        ""
      ],
      "execution_count": 0,
      "outputs": []
    },
    {
      "cell_type": "markdown",
      "metadata": {
        "id": "eiylDOyB7-_B",
        "colab_type": "text"
      },
      "source": [
        "=========BRAINTELS LABS =======\n",
        "IMAGE PROCESSING , ARTIFICIAL INTELLIGENCE & EMBEDDED SYSTEMS"
      ]
    }
  ]
}